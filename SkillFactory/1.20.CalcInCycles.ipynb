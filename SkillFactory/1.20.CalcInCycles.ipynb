{
 "cells": [
  {
   "cell_type": "code",
   "execution_count": 1,
   "metadata": {},
   "outputs": [
    {
     "name": "stdout",
     "output_type": "stream",
     "text": [
      "49.41177778422102\n"
     ]
    }
   ],
   "source": [
    "# Если нам нужно получить сумму корней чисел для диапазона чисел:\n",
    "# В этом примере для каждого числа от 20 до 29 включительно выполняется тело цикла, \n",
    "# в данном случае это прибавление к переменной sum_squares корня числа i, после чего сумма корней выводится на экран.\n",
    "\n",
    "sum_squares = 0\n",
    "for i in range(20, 30):\n",
    "    sum_squares += i**(1/2)\n",
    "print(sum_squares)"
   ]
  },
  {
   "cell_type": "code",
   "execution_count": 2,
   "metadata": {},
   "outputs": [
    {
     "name": "stdout",
     "output_type": "stream",
     "text": [
      "0\n",
      "1\n",
      "2\n",
      "3\n",
      "4\n",
      "5\n",
      "Цикл завершен!\n"
     ]
    }
   ],
   "source": [
    "#Иногда бывает нужно узнать, когда цикл закончился, например, когда он очень долго выполняется. \n",
    "#Для этого можно использовать else.\n",
    "\n",
    "for x in range(6):\n",
    "    print(x)\n",
    "else:\n",
    "    print(\"Цикл завершен!\")"
   ]
  },
  {
   "cell_type": "code",
   "execution_count": 3,
   "metadata": {},
   "outputs": [
    {
     "name": "stdout",
     "output_type": "stream",
     "text": [
      "2480 34020\n"
     ]
    }
   ],
   "source": [
    "#Для ряда целых чисел от 10 до 25 нужно вычислить сумму квадратов чисел, делящихся на 2, \n",
    "#и кубов чисел, делящихся на 3, после чего вывести эти суммы на экран.\n",
    "\n",
    "sum_2 = 0\n",
    "sum_3 = 0\n",
    "for i in range(10, 26):\n",
    "    if i%2 == 0:\n",
    "        sum_2 += i**2\n",
    "    if i%3 == 0:\n",
    "        sum_3 += i**3\n",
    "else:\n",
    "    print(sum_2, sum_3)"
   ]
  },
  {
   "cell_type": "code",
   "execution_count": 7,
   "metadata": {},
   "outputs": [
    {
     "name": "stdout",
     "output_type": "stream",
     "text": [
      "5\n",
      "Факториал числа 5 равен 120\n"
     ]
    }
   ],
   "source": [
    "#Найти факториал введённого натурального числа.\n",
    "\n",
    "number = int(input())\n",
    "factorial = 1\n",
    "for i in range(1, number + 1):\n",
    "    factorial = factorial*i \n",
    "else:\n",
    "    print('Факториал числа', number, 'равен', factorial)"
   ]
  },
  {
   "cell_type": "code",
   "execution_count": 9,
   "metadata": {},
   "outputs": [
    {
     "name": "stdout",
     "output_type": "stream",
     "text": [
      "1 1 1\n",
      "2 4 8\n",
      "3 9 27\n",
      "4 16 64\n",
      "5 25 125\n",
      "6 36 216\n",
      "7 49 343\n",
      "8 64 512\n",
      "9 81 729\n",
      "10 100 1000\n"
     ]
    }
   ],
   "source": [
    "#Задание 1\n",
    "\n",
    "#Выведите таблицу квадратов и кубов для чисел от 1 до 10 включительно. \n",
    "#(Каждая новая строчка распечатывается через print() и имеет формат '2 4 8', \n",
    "#то есть число, затем его квадрат, а затем его куб)\n",
    "\n",
    "for i in range(1, 11):\n",
    "    print(i, i**2, i**3)"
   ]
  },
  {
   "cell_type": "code",
   "execution_count": 10,
   "metadata": {},
   "outputs": [
    {
     "name": "stdout",
     "output_type": "stream",
     "text": [
      "1\n",
      "2\n",
      "3\n",
      "4\n",
      "6\n",
      "7\n",
      "12\n",
      "14\n",
      "21\n",
      "28\n",
      "42\n",
      "84\n"
     ]
    }
   ],
   "source": [
    "#Задание 2\n",
    "\n",
    "#Напишите программу, которая получает на вход число (number) \n",
    "#и последовательно в порядке возрастания выводит все его делители на экран \n",
    "#(само число тоже является своим делителем).\n",
    "#Для проверки используйте number = 84\n",
    "\n",
    "number = 84\n",
    "for i in range(1, number+1):\n",
    "    if number%i==0:\n",
    "        print(i)"
   ]
  },
  {
   "cell_type": "code",
   "execution_count": 18,
   "metadata": {},
   "outputs": [
    {
     "name": "stdout",
     "output_type": "stream",
     "text": [
      "2\n"
     ]
    }
   ],
   "source": [
    "#Задание 3\n",
    "\n",
    "#Написать программу, которая ищет все общие (не равные 1) делители двух чисел (num_1 и num_2), введённых пользователем, \n",
    "#и последовательно в порядке возрастания выводит их на экран. \n",
    "#Если общих делителей нет, не выводит на экран ничего.\n",
    "#Для проверки используйте num_1 = 12 и num_2 = 38\n",
    "\n",
    "num_1 = 12\n",
    "num_2 = 38\n",
    "nmin=num_1\n",
    "nmax=num_2\n",
    "if num_1>num_2:\n",
    "    nmin=num_2\n",
    "    nmax=num_1\n",
    "for i in range(2, nmin+1):\n",
    "    if nmin%i==0 and nmax%i==0:\n",
    "        print(i)"
   ]
  },
  {
   "cell_type": "code",
   "execution_count": 40,
   "metadata": {},
   "outputs": [
    {
     "name": "stdout",
     "output_type": "stream",
     "text": [
      "55\n"
     ]
    }
   ],
   "source": [
    "#Задание 4\n",
    "\n",
    "#Написать программу, которая на вход получает натуральное число n и выводит n-е число ряда Фибоначчи на экран. \n",
    "#Для проверки используйте n = 10\n",
    "#Пояснение: последовательность Фибоначчи — это ряд чисел, в котором первые два элемента равны 1, \n",
    "#а каждый следующий элемент равен сумме двух предыдущих: 1, 1, 2, 3, 5, 8, 13, 21, ...\n",
    "\n",
    "n=10\n",
    "prev=0\n",
    "cur=1\n",
    "for i in range(n): \n",
    "    nextv=prev+cur\n",
    "    prev=cur\n",
    "    cur=nextv\n",
    "print(prev)\n",
    "\n"
   ]
  },
  {
   "cell_type": "code",
   "execution_count": 41,
   "metadata": {},
   "outputs": [
    {
     "name": "stdout",
     "output_type": "stream",
     "text": [
      "15 X 1 = 15\n",
      "15 X 2 = 30\n",
      "15 X 3 = 45\n",
      "15 X 4 = 60\n",
      "15 X 5 = 75\n",
      "15 X 6 = 90\n",
      "15 X 7 = 105\n",
      "15 X 8 = 120\n",
      "15 X 9 = 135\n",
      "15 X 10 = 150\n"
     ]
    }
   ],
   "source": [
    "#Задание 5\n",
    "\n",
    "#Напишите программу, которая выводит таблицу умножения от 1 до 10 для выбранного целого числа (number). \n",
    "#Если number = 15, то строка таблицы имеет вид \"15 X 3 = 45\".\n",
    "#Для проверки используйте number = 15\n",
    "\n",
    "number = 15\n",
    "for i in range(1, 11): \n",
    "    mult=number*i\n",
    "    print(number,'X',i,'=',mult)"
   ]
  }
 ],
 "metadata": {
  "kernelspec": {
   "display_name": "Python 3",
   "language": "python",
   "name": "python3"
  },
  "language_info": {
   "codemirror_mode": {
    "name": "ipython",
    "version": 3
   },
   "file_extension": ".py",
   "mimetype": "text/x-python",
   "name": "python",
   "nbconvert_exporter": "python",
   "pygments_lexer": "ipython3",
   "version": "3.7.6"
  }
 },
 "nbformat": 4,
 "nbformat_minor": 4
}

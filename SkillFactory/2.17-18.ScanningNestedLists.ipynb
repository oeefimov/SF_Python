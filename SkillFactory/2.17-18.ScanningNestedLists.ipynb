{
 "cells": [
  {
   "cell_type": "code",
   "execution_count": null,
   "metadata": {},
   "outputs": [],
   "source": [
    "2.17 Вложенные списки\n",
    "\n",
    "На практике в качестве элементов списков часто выступают сами списки. \n",
    "Например, при чтении CSV-файла (это разновидность текстового файла) после разбиения строк на столбцы \n",
    "мы будем иметь набор списков. \n",
    "Рассмотрим простой пример: имеется CSV-файл со товарными позициями интернет-магазина. \n",
    "В первом столбце — идентификатор товара, во втором — название, в третьем — количество штук на складе. \n",
    "При чтении такого файла получим следующую структуру:\n",
    "\n",
    "csv_file = [\n",
    "    ['100412', 'Ботинки для горных лыж ATOMIC Hawx Prime 100', 9],\n",
    "    ['100728', 'Скейтборд Jdbug RT03', 32],\n",
    "    ['100732', 'Роллерсерф Razor RipStik Bright', 11],\n",
    "    ['100803', 'Ботинки для сноуборда DC Tucknee', 20],\n",
    "    ['100898', 'Шагомер Omron HJA-306', 2],\n",
    "    ['100934', 'Пульсометр Beurer PM62', 17],\n",
    "]\n",
    "\n",
    "Допустим, нам надо забрать из этой \"базы\" количество шагомеров. \n",
    "Раз это список, то к его элементам можно обращаться по номеру индекса. \n",
    "У шагомера пятая по счету \"строка\" в списке, поэтому сначала обратимся к ней:\n",
    "print(csv_file[4])\n",
    "Результат: ['100898', 'Шагомер Omron HJA-306', 2]\n",
    "\n",
    "Теперь, имея более простой список из трех элементов, просто обратимся к третьему по счету. \n",
    "Для этого достаточно указать его номер в квадратных скобках:\n",
    "print(csv_file[4][2])\n",
    "Результат: 2\n",
    "\n",
    "Таким образом можно выделить из вложенного списка любой элемент."
   ]
  },
  {
   "cell_type": "code",
   "execution_count": null,
   "metadata": {},
   "outputs": [],
   "source": [
    "Получение идентификатора товара\n",
    "\n",
    "Напишите код, который записывает в переменную pulsometer_id идентификатор товара \"Пульсометр Beurer PM62\"\n",
    "\n",
    "csv_file = [\n",
    "    ['100412', 'Ботинки для горных лыж ATOMIC Hawx Prime 100', 9],\n",
    "    ['100728', 'Скейтборд Jdbug RT03', 32],\n",
    "    ['100732', 'Роллерсерф Razor RipStik Bright', 11],\n",
    "    ['100803', 'Ботинки для сноуборда DC Tucknee', 20],\n",
    "    ['100898', 'Шагомер Omron HJA-306', 2],\n",
    "    ['100934', 'Пульсометр Beurer PM62', 17],\n",
    "]"
   ]
  },
  {
   "cell_type": "code",
   "execution_count": 1,
   "metadata": {},
   "outputs": [
    {
     "name": "stdout",
     "output_type": "stream",
     "text": [
      "100934\n"
     ]
    }
   ],
   "source": [
    "csv_file = [\n",
    "    ['100412', 'Ботинки для горных лыж ATOMIC Hawx Prime 100', 9],\n",
    "    ['100728', 'Скейтборд Jdbug RT03', 32],\n",
    "    ['100732', 'Роллерсерф Razor RipStik Bright', 11],\n",
    "    ['100803', 'Ботинки для сноуборда DC Tucknee', 20],\n",
    "    ['100898', 'Шагомер Omron HJA-306', 2],\n",
    "    ['100934', 'Пульсометр Beurer PM62', 17],\n",
    "]\n",
    "pulsometer_id=csv_file[5][0]\n",
    "print(pulsometer_id)"
   ]
  },
  {
   "cell_type": "code",
   "execution_count": null,
   "metadata": {},
   "outputs": [],
   "source": [
    "2.18 Проход по вложенному списку\n",
    "\n",
    "Искать элементы списка вручную крайне неэффективно. Давайте автоматизируем процесс поиска. \n",
    "Для этого сначала напишем цикл, который проходит по элементам CSV-файла:\n",
    "\n",
    "for record in csv_file:\n",
    "    print(record)\n",
    "#выводит все записи\n",
    "\n",
    "В каждом шаге цикла в переменную record пишется список с тремя столбцами. \n",
    "Осталось добавить проверку: если второй столбец равен искомому товару, то выводим на экран третий по счету столбец:\n",
    "\n",
    "for record in csv_file:\n",
    "    if record[1] == 'Шагомер Omron HJA-306':\n",
    "        print('Количество шагомеров на складе - {}шт'.format(record[2]))\n",
    "#record[1] - обращение ко второму столбцу\n",
    "#format(record[2]) - метод format() ранее не встречался и не описывался\n",
    "#Фактически format() размещает переданный аргумент (здесь - record[2]) в позицию, отмеченную {}\n",
    "'''\n",
    "format(value[, format_spec])¶\n",
    "Convert a value to a “formatted” representation, as controlled by format_spec. \n",
    "The interpretation of format_spec will depend on the type of the value argument, \n",
    "however there is a standard formatting syntax that is used by most built-in types: \n",
    "Format Specification Mini-Language.\n",
    "\n",
    "The default format_spec is an empty string which usually gives the same effect as calling str(value).\n",
    "\n",
    "A call to format(value, format_spec) is translated to type(value).__format__(value, format_spec) \n",
    "which bypasses the instance dictionary when searching for the value’s __format__() method. \n",
    "A TypeError exception is raised if the method search reaches object and the format_spec is non-empty, \n",
    "or if either the format_spec or the return value are not strings.\n",
    "\n",
    "Changed in version 3.4: object().__format__(format_spec) raises TypeError if format_spec is not an empty string.\n",
    "'''\n"
   ]
  },
  {
   "cell_type": "code",
   "execution_count": 2,
   "metadata": {},
   "outputs": [
    {
     "name": "stdout",
     "output_type": "stream",
     "text": [
      "Количество шагомеров на складе - 2шт\n"
     ]
    }
   ],
   "source": [
    "csv_file = [\n",
    "    ['100412', 'Ботинки для горных лыж ATOMIC Hawx Prime 100', 9],\n",
    "    ['100728', 'Скейтборд Jdbug RT03', 32],\n",
    "    ['100732', 'Роллерсерф Razor RipStik Bright', 11],\n",
    "    ['100803', 'Ботинки для сноуборда DC Tucknee', 20],\n",
    "    ['100898', 'Шагомер Omron HJA-306', 2],\n",
    "    ['100934', 'Пульсометр Beurer PM62', 17],\n",
    "]\n",
    "for record in csv_file:\n",
    "    if record[1] == 'Шагомер Omron HJA-306':\n",
    "        print('Количество шагомеров на складе - {}шт'.format(record[2]))"
   ]
  },
  {
   "cell_type": "code",
   "execution_count": null,
   "metadata": {},
   "outputs": [],
   "source": [
    "Фильтрация товарных позиций по количеству\n",
    "\n",
    "Отфильтруйте список товарных позиций csv_file, оставив только те позиции, у которых количество штук на складе больше 10. \n",
    "Результат запишите в переменную csv_file_filtered"
   ]
  },
  {
   "cell_type": "code",
   "execution_count": 4,
   "metadata": {},
   "outputs": [
    {
     "name": "stdout",
     "output_type": "stream",
     "text": [
      "['100728', 'Скейтборд Jdbug RT03', 32]\n",
      "['100732', 'Роллерсерф Razor RipStik Bright', 11]\n",
      "['100803', 'Ботинки для сноуборда DC Tucknee', 20]\n",
      "['100934', 'Пульсометр Beurer PM62', 17]\n",
      "[['100728', 'Скейтборд Jdbug RT03', 32], ['100732', 'Роллерсерф Razor RipStik Bright', 11], ['100803', 'Ботинки для сноуборда DC Tucknee', 20], ['100934', 'Пульсометр Beurer PM62', 17]]\n"
     ]
    }
   ],
   "source": [
    "csv_file = [\n",
    "    ['100412', 'Ботинки для горных лыж ATOMIC Hawx Prime 100', 9],\n",
    "    ['100728', 'Скейтборд Jdbug RT03', 32],\n",
    "    ['100732', 'Роллерсерф Razor RipStik Bright', 11],\n",
    "    ['100803', 'Ботинки для сноуборда DC Tucknee', 20],\n",
    "    ['100898', 'Шагомер Omron HJA-306', 2],\n",
    "    ['100934', 'Пульсометр Beurer PM62', 17],\n",
    "]\n",
    "csv_file_filtered=[]\n",
    "for record in csv_file:\n",
    "    if record[2] >10:\n",
    "#        print(record)\n",
    "        csv_file_filtered.append(record)\n",
    "#print(csv_file_filtered)"
   ]
  }
 ],
 "metadata": {
  "kernelspec": {
   "display_name": "Python 3",
   "language": "python",
   "name": "python3"
  },
  "language_info": {
   "codemirror_mode": {
    "name": "ipython",
    "version": 3
   },
   "file_extension": ".py",
   "mimetype": "text/x-python",
   "name": "python",
   "nbconvert_exporter": "python",
   "pygments_lexer": "ipython3",
   "version": "3.7.6"
  }
 },
 "nbformat": 4,
 "nbformat_minor": 4
}

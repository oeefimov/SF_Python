{
 "cells": [
  {
   "cell_type": "code",
   "execution_count": 3,
   "metadata": {},
   "outputs": [
    {
     "name": "stdout",
     "output_type": "stream",
     "text": [
      "25\n",
      "27\n",
      "33\n",
      "35\n",
      "39\n",
      "45\n"
     ]
    }
   ],
   "source": [
    "#Задание 5\n",
    "\n",
    "#Напишите программу, которая последовательно выводит нечётные числа, которые делятся на 3 или 5, \n",
    "#от первого введённого числа (num_1) до второго введённого числа (num_2) включительно. \n",
    "#Если второе число меньше первого или первое число меньше нуля, выведите \"Введён неверный диапазон чисел\".\n",
    "#Для проверки используйте num_1 = 25, num_2 = 45\n",
    "\n",
    "#num_1 = int(input())\n",
    "#num_2 = int(input())\n",
    "num_1 = 25\n",
    "num_2 = 45\n",
    "if num_1<0 or num_2<num_1:\n",
    "    print('Введён неверный диапазон чисел')\n",
    "else:\n",
    "    for i in range(num_1, num_2+1):\n",
    "        if i%2!=0 and (i%3==0 or i%5==0):\n",
    "            print(i)"
   ]
  }
 ],
 "metadata": {
  "kernelspec": {
   "display_name": "Python 3",
   "language": "python",
   "name": "python3"
  },
  "language_info": {
   "codemirror_mode": {
    "name": "ipython",
    "version": 3
   },
   "file_extension": ".py",
   "mimetype": "text/x-python",
   "name": "python",
   "nbconvert_exporter": "python",
   "pygments_lexer": "ipython3",
   "version": "3.7.6"
  }
 },
 "nbformat": 4,
 "nbformat_minor": 4
}

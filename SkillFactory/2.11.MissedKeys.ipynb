{
 "cells": [
  {
   "cell_type": "code",
   "execution_count": null,
   "metadata": {},
   "outputs": [],
   "source": [
    "2.11 Пропущенные ключи\n",
    "\n",
    "Пропущенные ключи. Способ 1\n",
    "\n",
    "Можно заранее проверить, есть ли в словаре нужный нам ключ. Это делается с помощью знакомой вам проверки if. \n",
    "Если сотрудник есть в словаре контактов, то выводим его имя, если нет, — напишем предупреждение:\n",
    "\n",
    "for name in request:\n",
    "    if name in employee_base:\n",
    "        print(employee_base[name])\n",
    "    else:\n",
    "        print('Неизвестный сотрудник')"
   ]
  },
  {
   "cell_type": "code",
   "execution_count": 2,
   "metadata": {},
   "outputs": [
    {
     "name": "stdout",
     "output_type": "stream",
     "text": [
      "+79033923029\n",
      "+78125849204\n",
      "Неизвестный сотрудник\n"
     ]
    }
   ],
   "source": [
    "employee_base = {\n",
    "    'Мария Никитина': '+79033923029',\n",
    "    'Егор Савичев': '+78125849204',\n",
    "    'Александр Пахомов': '+79053049385',\n",
    "    'Алина Егорова': '+79265748370',\n",
    "    'Руслан Башаров': '+79030598495'\n",
    "}\n",
    "name='Егор Савичев'\n",
    "request = ['Мария Никитина', 'Егор Савичев', 'Алексей Чернышевский']\n",
    "for name in request:\n",
    "    if name in employee_base:\n",
    "        print(employee_base[name])\n",
    "    else:\n",
    "        print('Неизвестный сотрудник')"
   ]
  },
  {
   "cell_type": "code",
   "execution_count": 3,
   "metadata": {},
   "outputs": [
    {
     "data": {
      "text/plain": [
       "'unknown'"
      ]
     },
     "execution_count": 3,
     "metadata": {},
     "output_type": "execute_result"
    }
   ],
   "source": [
    "#Жеребьевка Чемпионата мира-2018\n",
    "\n",
    "#Дан словарь с результатами жеребьевки Чемпионата мира по футболу-2018 пяти стран по группам:\n",
    "#draw_dict = {\n",
    "#\t'Россия': 'A',\n",
    "#\t'Португалия': 'B',\n",
    "#\t'Франция': 'C',\n",
    "#\t'Дания': 'C',\n",
    "#\t'Египет': 'A'\n",
    "#}\n",
    "\n",
    "#Напишите код, который по названию страны country присваивает переменной group название группы по результатам жеребьевки. \n",
    "#Если страны нет в словаре draw_dict, то переменной group присваивается значение 'unknown'. \n",
    "#Выполните код для значения country = 'Италия'.\n",
    "\n",
    "draw_dict = {\n",
    "\t'Россия': 'A',\n",
    "\t'Португалия': 'B',\n",
    "\t'Франция': 'C',\n",
    "\t'Дания': 'C',\n",
    "\t'Египет': 'A'\n",
    "}\n",
    "country='Италия'\n",
    "if country in draw_dict:\n",
    "    group=draw_dict[country]\n",
    "else:\n",
    "    group='unknown'\n",
    "group"
   ]
  },
  {
   "cell_type": "code",
   "execution_count": null,
   "metadata": {},
   "outputs": [],
   "source": [
    "Пропущенные ключи. Способ 2\n",
    "\n",
    "Используем метод setdefault. Он позволяет назначить ключу словаря определенное значение. \n",
    "Однако если этот ключ в словаре уже есть, то это значение будет оставлено без изменений. \n",
    "Рассмотрим простые примеры.\n",
    "\n",
    "Имеется словарь:\n",
    "simple_dict = {'a': 1}\n",
    "\n",
    "Если применить метод setdefault, указав ключ ‘b’ (сейчас в словаре simple_dict такого ключа нет) со значением '0', \n",
    "то метод автоматически создаст новый ключ:\n",
    "\n",
    "simple_dict.setdefault('b', 0)\n",
    "print(simple_dict)\n",
    "Результат: {'a': 1, 'b': 0}\n",
    "\n",
    "Рассмотрим второй случай, когда ключ ‘b’ уже есть:\n",
    "\n",
    "simple_dict = {'a': 1, 'b': 0}\n",
    "\n",
    "simple_dict.setdefault('b', 5)\n",
    "print(simple_dict)\n",
    "Результат: {'a': 1, 'b': 0}\n",
    "\n",
    "В этом случае значение ключа ‘b’ изменено не будет. Применим этот метод к нашему примеру:\n",
    "\n",
    "for name in request:\n",
    "    employee_base.setdefault(name, 'Неизвестный сотрудник')\n",
    "    print(employee_base[name])\n",
    "\n",
    "В результате скрипт отработает без ошибок:\n",
    "+79033923029\n",
    "+78125849204\n",
    "Неизвестный сотрудник\n"
   ]
  },
  {
   "cell_type": "code",
   "execution_count": null,
   "metadata": {},
   "outputs": [],
   "source": [
    "Жеребьевка Чемпионата мира-2018\n",
    "\n",
    "Решите предыдущую задачу, используя метод setdefault. \n",
    "Вместо проверки на наличие ключа вы можете сразу назначить значение по умолчанию 'unknown'. \n",
    "Проверьте работу кода для country = 'Италия'. Результат запишите в переменную group\n",
    "\n",
    "draw_dict = {\n",
    "\t'Россия': 'A',\n",
    "\t'Португалия': 'B',\n",
    "\t'Франция': 'C',\n",
    "\t'Дания': 'C',\n",
    "\t'Египет': 'A'\n",
    "}"
   ]
  },
  {
   "cell_type": "code",
   "execution_count": 5,
   "metadata": {},
   "outputs": [
    {
     "data": {
      "text/plain": [
       "'A'"
      ]
     },
     "execution_count": 5,
     "metadata": {},
     "output_type": "execute_result"
    }
   ],
   "source": [
    "draw_dict = {\n",
    "\t'Россия': 'A',\n",
    "\t'Португалия': 'B',\n",
    "\t'Франция': 'C',\n",
    "\t'Дания': 'C',\n",
    "\t'Египет': 'A'\n",
    "}\n",
    "country='Италия'\n",
    "draw_dict.setdefault(country, 'unknown')\n",
    "group=draw_dict[country]\n",
    "group"
   ]
  }
 ],
 "metadata": {
  "kernelspec": {
   "display_name": "Python 3",
   "language": "python",
   "name": "python3"
  },
  "language_info": {
   "codemirror_mode": {
    "name": "ipython",
    "version": 3
   },
   "file_extension": ".py",
   "mimetype": "text/x-python",
   "name": "python",
   "nbconvert_exporter": "python",
   "pygments_lexer": "ipython3",
   "version": "3.7.6"
  }
 },
 "nbformat": 4,
 "nbformat_minor": 4
}

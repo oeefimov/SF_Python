{
 "cells": [
  {
   "cell_type": "code",
   "execution_count": 1,
   "metadata": {},
   "outputs": [
    {
     "name": "stdout",
     "output_type": "stream",
     "text": [
      "Число чётное.\n"
     ]
    }
   ],
   "source": [
    "a = 4\n",
    "if a % 2 == 0:\n",
    "    print('Число чётное.')"
   ]
  },
  {
   "cell_type": "code",
   "execution_count": 8,
   "metadata": {},
   "outputs": [
    {
     "name": "stdout",
     "output_type": "stream",
     "text": [
      "Число нечетное\n"
     ]
    }
   ],
   "source": [
    "a=3\n",
    "if a%2==0:\n",
    "    print('Число четное')\n",
    "else:\n",
    "    print('Число нечетное')"
   ]
  },
  {
   "cell_type": "code",
   "execution_count": 12,
   "metadata": {},
   "outputs": [
    {
     "name": "stdout",
     "output_type": "stream",
     "text": [
      "Это слово длинное.\n"
     ]
    }
   ],
   "source": [
    "word = '12345678'\n",
    "if len(word)>7:\n",
    "    print('Это слово длинное.')\n",
    "else:\n",
    "    print('Это слово короткое.')"
   ]
  },
  {
   "cell_type": "code",
   "execution_count": 14,
   "metadata": {},
   "outputs": [
    {
     "name": "stdout",
     "output_type": "stream",
     "text": [
      "Ого! Вы ввели редкое слово!\n"
     ]
    }
   ],
   "source": [
    "word = 'ОченьДлинноеСлово'\n",
    "if 'ф' in word:\n",
    "    print('Ого! Вы ввели редкое слово!')\n",
    "else:\n",
    "    print('Эх, это не очень редкое слово...')"
   ]
  },
  {
   "cell_type": "code",
   "execution_count": 17,
   "metadata": {},
   "outputs": [
    {
     "name": "stdout",
     "output_type": "stream",
     "text": [
      "Выбранной буквы нет в введённом слове\n"
     ]
    }
   ],
   "source": [
    "word = 'ОченьДлнноеСлово'\n",
    "letter = 'и'\n",
    "if letter in word:\n",
    "    print('Выбранная буква есть в введённом слове')\n",
    "else:\n",
    "    print('Выбранной буквы нет в введённом слове')"
   ]
  },
  {
   "cell_type": "code",
   "execution_count": 44,
   "metadata": {},
   "outputs": [
    {
     "name": "stdout",
     "output_type": "stream",
     "text": [
      "2 равно 2.0\n",
      "13\n"
     ]
    }
   ],
   "source": [
    "# Задание 6\n",
    "# Напишите программу, которая проверяет, является ли квадратный корень\n",
    "# из заданного целого положительного числа (number) целым числом.\n",
    "\n",
    "# Что будет, если сравнивать int и float\n",
    "x=2\n",
    "y=2.0\n",
    "if x==y:\n",
    "    print(x,'равно',y)\n",
    "else:\n",
    "    print(x,'не равно',y)\n",
    "\n",
    "# Собственно задание\n",
    "number = 169\n",
    "root=number**(1/2)\n",
    "if root==int(root):\n",
    "    print (int(root))\n",
    "else:\n",
    "    print ('Квадратный корень из', number, '- не целое число')\n"
   ]
  },
  {
   "cell_type": "code",
   "execution_count": 47,
   "metadata": {},
   "outputs": [
    {
     "name": "stdout",
     "output_type": "stream",
     "text": [
      "13\n"
     ]
    }
   ],
   "source": [
    "# Тупой вариант\n",
    "number = 169\n",
    "if number**(1/2)==int(number**(1/2)):\n",
    "    print (int(number**(1/2)))\n",
    "else:\n",
    "    print ('Квадратный корень из', number, '- не целое число')"
   ]
  }
 ],
 "metadata": {
  "kernelspec": {
   "display_name": "Python 3",
   "language": "python",
   "name": "python3"
  },
  "language_info": {
   "codemirror_mode": {
    "name": "ipython",
    "version": 3
   },
   "file_extension": ".py",
   "mimetype": "text/x-python",
   "name": "python",
   "nbconvert_exporter": "python",
   "pygments_lexer": "ipython3",
   "version": "3.7.6"
  }
 },
 "nbformat": 4,
 "nbformat_minor": 4
}

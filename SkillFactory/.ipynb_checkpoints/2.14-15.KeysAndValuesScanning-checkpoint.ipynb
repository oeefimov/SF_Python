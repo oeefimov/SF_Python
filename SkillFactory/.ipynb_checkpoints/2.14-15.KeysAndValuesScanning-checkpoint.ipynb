{
 "cells": [
  {
   "cell_type": "code",
   "execution_count": null,
   "metadata": {},
   "outputs": [],
   "source": [
    "2.14 Перебор значений словаря\n",
    "\n",
    "При замене [метода] keys на values в каждом шаге цикла в переменную попадут только значения словаря \n",
    "(в нашем случае — названия должностей сотрудников; \n",
    " название переменной position, как обычно, можно выбрать любым)\n",
    "\n",
    "for position in employee_base.values():\n",
    "    print(position)\n",
    "\n",
    "\n",
    "В данном случае нам в цикле “доступны” только значения словаря. Для нашей задачи такой вариант не очень подходит. \n",
    "Но при таком переборе удобно посчитать количество сотрудников с позицией “разработчик”:\n",
    "\n",
    "# заводим переменную-счетчик\n",
    "for position in employee_base.values():\n",
    "    if position == 'разработчик':\n",
    "        # увеличиваем счетчик на 1\n",
    "# выводим значение счетчика на экран"
   ]
  },
  {
   "cell_type": "code",
   "execution_count": 1,
   "metadata": {},
   "outputs": [
    {
     "name": "stdout",
     "output_type": "stream",
     "text": [
      "В базе 2 разработчиков\n"
     ]
    }
   ],
   "source": [
    "employee_base = {'Мария Никитина': 'менеджер', 'Егор Савичев': 'разработчик', 'Александр Пахомов': 'дизайнер', \n",
    "                 'Алина Егорова': 'разработчик', 'Руслан Башаров': 'верстальщик'}\n",
    "n=0\n",
    "for position in employee_base.values():\n",
    "    if position == 'разработчик':\n",
    "        n+=1\n",
    "print('В базе', n, 'разработчиков')\n"
   ]
  },
  {
   "cell_type": "code",
   "execution_count": null,
   "metadata": {},
   "outputs": [],
   "source": [
    "2.15 Перебор ключей и значений одновременно\n",
    "\n",
    "Наконец, самым универсальным способом является перебор ключей и значений одновременно. \n",
    "Таким образом, в каждом шаге цикла нам доступны ключ и значение в отдельных переменных. \n",
    "Для этого используем метод items:\n",
    "\n",
    "for employee, position in employee_base.items():\n",
    "    print(employee, position)\n",
    "\n",
    "В данном случае в каждом шаге цикла в первую по счету переменную будет записываться ключ словаря. \n",
    "Во вторую — значение. Тогда можно написать проверку наиболее простым образом:\n",
    "\n",
    "for employee, position in employee_base.items():\n",
    "    if position == 'разработчик':\n",
    "        print(employee)"
   ]
  },
  {
   "cell_type": "code",
   "execution_count": 3,
   "metadata": {},
   "outputs": [
    {
     "name": "stdout",
     "output_type": "stream",
     "text": [
      "Мария Никитина менеджер\n",
      "Егор Савичев разработчик\n",
      "Александр Пахомов дизайнер\n",
      "Алина Егорова разработчик\n",
      "Руслан Башаров верстальщик\n"
     ]
    }
   ],
   "source": [
    "employee_base = {'Мария Никитина': 'менеджер', 'Егор Савичев': 'разработчик', 'Александр Пахомов': 'дизайнер', \n",
    "                 'Алина Егорова': 'разработчик', 'Руслан Башаров': 'верстальщик'}\n",
    "for employee, position in employee_base.items():\n",
    "    print(employee, position)"
   ]
  },
  {
   "cell_type": "code",
   "execution_count": 2,
   "metadata": {
    "scrolled": true
   },
   "outputs": [
    {
     "name": "stdout",
     "output_type": "stream",
     "text": [
      "Егор Савичев\n",
      "Алина Егорова\n"
     ]
    }
   ],
   "source": [
    "employee_base = {'Мария Никитина': 'менеджер', 'Егор Савичев': 'разработчик', 'Александр Пахомов': 'дизайнер', \n",
    "                 'Алина Егорова': 'разработчик', 'Руслан Башаров': 'верстальщик'}\n",
    "for employee, position in employee_base.items():\n",
    "    if position == 'разработчик':\n",
    "        print(employee)"
   ]
  },
  {
   "cell_type": "code",
   "execution_count": null,
   "metadata": {},
   "outputs": [],
   "source": [
    "Фильтрация результатов жеребьевки\n",
    "\n",
    "Отфильтруйте словарь draw_dict с помощью метода items, оставив в нем только страны группы A. \n",
    "Отфильтрованный результат запишите в новый словарь draw_new\n",
    "\n",
    "draw_dict = {\n",
    "\t'Россия': 'A',\n",
    "\t'Португалия': 'B',\n",
    "\t'Франция': 'C',\n",
    "\t'Дания': 'C',\n",
    "\t'Египет': 'A'\n",
    "}"
   ]
  },
  {
   "cell_type": "code",
   "execution_count": 6,
   "metadata": {},
   "outputs": [
    {
     "name": "stdout",
     "output_type": "stream",
     "text": [
      "{'Россия': 'A', 'Египет': 'A'}\n"
     ]
    }
   ],
   "source": [
    "draw_dict = {\n",
    "\t'Россия': 'A',\n",
    "\t'Португалия': 'B',\n",
    "\t'Франция': 'C',\n",
    "\t'Дания': 'C',\n",
    "\t'Египет': 'A'\n",
    "}\n",
    "draw_new={}\n",
    "for team, group in draw_dict.items():\n",
    "    if group == 'A':\n",
    "        draw_new.setdefault(team, group)\n",
    "print(draw_new)"
   ]
  }
 ],
 "metadata": {
  "kernelspec": {
   "display_name": "Python 3",
   "language": "python",
   "name": "python3"
  },
  "language_info": {
   "codemirror_mode": {
    "name": "ipython",
    "version": 3
   },
   "file_extension": ".py",
   "mimetype": "text/x-python",
   "name": "python",
   "nbconvert_exporter": "python",
   "pygments_lexer": "ipython3",
   "version": "3.7.6"
  }
 },
 "nbformat": 4,
 "nbformat_minor": 4
}

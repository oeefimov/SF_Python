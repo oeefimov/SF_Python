{
 "cells": [
  {
   "cell_type": "code",
   "execution_count": null,
   "metadata": {},
   "outputs": [],
   "source": [
    "2.6 Методы для работы со списками\n",
    "\n",
    "Что можно сделать со списком?\n",
    "Особенностью любого объектно-ориентированного языка программирования является то, \n",
    "что при работе с разными типами объектов можно использовать только определенные методы. \n",
    "Например, из предыдущего модуля вы помните, что операцию сложения можно применять как к числовым, так и к строковым типам, \n",
    "а вот умножать можно только число на число или целое число на строку. \n",
    "______________________\n",
    "Важно!\n",
    "В Python при работе с каждым типом объектов допустимо использовать только определённые методы. \n",
    "Попытка использовать метод, не предназначенный для работы с объектами данного типа, \n",
    "вызывает прерывание работы программы с сообщением об ошибке TypeError.\n",
    "______________________\n",
    "\n",
    "В данном разделе мы рассмотрим наиболее часто используемые методы и функции, \n",
    "которые можно корректно применять при работе со списками."
   ]
  },
  {
   "cell_type": "code",
   "execution_count": null,
   "metadata": {},
   "outputs": [],
   "source": [
    "Метод Append\n",
    "Используя метод append, мы можем добавить новое значение к уже существующему списку. Для этого нужно:\n",
    "\n",
    "указать имя списка;\n",
    "поставить точку;\n",
    "после точки написать зарезервированное слово append;\n",
    "в скобках указать значение, которое следует добавить к списку."
   ]
  },
  {
   "cell_type": "code",
   "execution_count": 1,
   "metadata": {},
   "outputs": [
    {
     "name": "stdout",
     "output_type": "stream",
     "text": [
      "[1, 2, 3, 4, 5, 100500]\n"
     ]
    }
   ],
   "source": [
    "my_list = [1, 2, 3, 4, 5]\n",
    "my_list.append(100500)\n",
    "print(my_list)"
   ]
  },
  {
   "cell_type": "code",
   "execution_count": null,
   "metadata": {},
   "outputs": [],
   "source": [
    "Создание нового списка с помощью метода append\n",
    "Метод append можно использовать для создания списка с нуля.\n",
    "\n",
    "Давайте представим такую ситуацию. Команда стартапа состоит из пяти человек. \n",
    "Зарплаты членов команды внесены в список old_salary:\n",
    "old_salary = [35000, 50000, 65000, 49000, 55000]\n",
    "\n",
    "После выступления руководителя команды на международной конференции стартап покупает один из лидеров рынка, \n",
    "после чего зарплата каждого члена команды увеличивается на 90%.\n",
    "\n",
    "Давайте попробуем написать код, который создаёт список new_salary, содержащий новые зарплаты:\n",
    "\n",
    "old_salary = [35000, 50000, 65000, 49000, 55000]\n",
    "new_salary = []\n",
    "for salary in old_salary: #Организуем перебор элементов списка old_salary\n",
    "                          #на каждом шаге цикла переменная salary будет принимать значение,\n",
    "                          #соответствующее очередному размеру заработной платы\n",
    "    new_salary.append(salary * 1.9) #Добавляем в список new_salary [ОЕ: В КОНЕЦ СПИСКА] новый элемент,\n",
    "                                    #равный старой зарплате, увеличенной на 90%\n",
    "print(new_salary)\n",
    "\n",
    "Вот как выглядят результаты работы этого кода:\n",
    "[66500.0, 95000.0, 123500.0, 93100.0, 104500.0]"
   ]
  },
  {
   "cell_type": "code",
   "execution_count": 3,
   "metadata": {},
   "outputs": [
    {
     "name": "stdout",
     "output_type": "stream",
     "text": [
      "[66500.0, 95000.0, 123500.0, 93100.0, 104500.0]\n"
     ]
    }
   ],
   "source": [
    "# То же самое с i вместо salary:\n",
    "\n",
    "old_salary = [35000, 50000, 65000, 49000, 55000]\n",
    "new_salary = []\n",
    "for i in old_salary:\n",
    "    new_salary.append(i * 1.9)\n",
    "print(new_salary)"
   ]
  },
  {
   "cell_type": "code",
   "execution_count": null,
   "metadata": {},
   "outputs": [],
   "source": [
    "Сортировка элементов списка\n",
    "Элементы списка можно упорядочить по возрастанию или убыванию, а в случае, если в списке хранятся строковые данные, \n",
    "их можно расставить в прямом или обратном алфавитном порядке. \n",
    "\n",
    "Для проведения сортировки используется метод sort:\n",
    "\n",
    "my_list = [10, 65, 31, 29, 90, 87, 100]\n",
    "my_list.sort()\n",
    "print(my_list)\n",
    "\n",
    "Вот что получается в результате работы этого кода:\n",
    "[10, 29, 31, 65, 87, 90, 100]\n",
    "\n",
    "Порядок сортировки (по возрастанию или по убыванию) задаётся с помощью параметра reverse. \n",
    "Сравните результат работы двух скриптов:\n",
    "\n",
    "my_list = [10, 65, 31, 29, 90, 87, 100]\n",
    "my_list.sort(reverse = False)\n",
    "print(my_list)\n",
    "\n",
    "[10, 29, 31, 65, 87, 90, 100]\n",
    "\n",
    "my_list = [10, 65, 31, 29, 90, 87, 100]\n",
    "my_list.sort(reverse = True)\n",
    "print(my_list)\n",
    "\n",
    "[100, 90, 87, 65, 31, 29, 10]\n",
    "\n",
    "Итак, при установке параметра reverse = False происходит сортировка списка по возрастанию, \n",
    "а при reverse = True список сортируется по убыванию."
   ]
  },
  {
   "cell_type": "code",
   "execution_count": 4,
   "metadata": {},
   "outputs": [
    {
     "name": "stdout",
     "output_type": "stream",
     "text": [
      "[10, 29, 31, 65, 87, 90, 100]\n"
     ]
    }
   ],
   "source": [
    "my_list = [10, 65, 31, 29, 90, 87, 100]\n",
    "my_list.sort()\n",
    "print(my_list)"
   ]
  },
  {
   "cell_type": "code",
   "execution_count": 5,
   "metadata": {
    "scrolled": true
   },
   "outputs": [
    {
     "name": "stdout",
     "output_type": "stream",
     "text": [
      "[10, 29, 31, 65, 87, 90, 100]\n"
     ]
    }
   ],
   "source": [
    "my_list = [10, 65, 31, 29, 90, 87, 100]\n",
    "my_list.sort(reverse = False)\n",
    "print(my_list)"
   ]
  },
  {
   "cell_type": "code",
   "execution_count": 6,
   "metadata": {},
   "outputs": [
    {
     "name": "stdout",
     "output_type": "stream",
     "text": [
      "[100, 90, 87, 65, 31, 29, 10]\n"
     ]
    }
   ],
   "source": [
    "my_list = [10, 65, 31, 29, 90, 87, 100]\n",
    "my_list.sort(reverse = True)\n",
    "print(my_list)"
   ]
  },
  {
   "cell_type": "code",
   "execution_count": null,
   "metadata": {},
   "outputs": [],
   "source": [
    "Те же принципы работают и со списками, содержащими строковые данные:\n",
    "\n",
    "my_list = ['банан', 'дыня', 'апельсин', 'груша', 'вишня']\n",
    "my_list.sort(reverse = False)\n",
    "print(my_list)\n",
    "\n",
    "['апельсин', 'банан', 'вишня', 'груша', 'дыня']\n",
    "\n",
    "my_list = ['банан', 'дыня', 'апельсин', 'груша', 'вишня']\n",
    "my_list.sort(reverse = True)\n",
    "print(my_list)\n",
    "\n",
    "['дыня', 'груша', 'вишня', 'банан', 'апельсин']"
   ]
  },
  {
   "cell_type": "code",
   "execution_count": 7,
   "metadata": {},
   "outputs": [
    {
     "name": "stdout",
     "output_type": "stream",
     "text": [
      "['апельсин', 'банан', 'вишня', 'груша', 'дыня']\n"
     ]
    }
   ],
   "source": [
    "my_list = ['банан', 'дыня', 'апельсин', 'груша', 'вишня']\n",
    "my_list.sort(reverse = False)\n",
    "print(my_list)"
   ]
  },
  {
   "cell_type": "code",
   "execution_count": 8,
   "metadata": {},
   "outputs": [
    {
     "name": "stdout",
     "output_type": "stream",
     "text": [
      "['дыня', 'груша', 'вишня', 'банан', 'апельсин']\n"
     ]
    }
   ],
   "source": [
    "my_list = ['банан', 'дыня', 'апельсин', 'груша', 'вишня']\n",
    "my_list.sort(reverse = True)\n",
    "print(my_list)"
   ]
  },
  {
   "cell_type": "code",
   "execution_count": null,
   "metadata": {},
   "outputs": [],
   "source": [
    "Определение минимального значения\n",
    "Для определения минимального значения среди элементов списка мы можем воспользоваться функцией min. \n",
    "\n",
    "Синтаксис функции очень простой:\n",
    "сначала следует написать зарезервированное слово min;\n",
    "далее в круглых скобках пишем имя переменной, в которой хранится список.\n",
    "\n",
    "salary = [100000, 45000, 78000, 29000, 55000, 60000]\n",
    "lowest_salary = min(salary)\n",
    "print(lowest_salary) \n",
    "\n",
    "29000\n",
    "\n",
    "Определение максимального значения\n",
    "Синтаксис для определения максимального значения элементов, хранящихся в списке, \n",
    "очень похож на тот, что использовался при определении минимума. \n",
    "Единственное отличие заключается в имени функции: вместо min следует использовать max:\n",
    "\n",
    "salary = [100000, 45000, 78000, 29000, 55000, 60000]\n",
    "highest_salary = max(salary)\n",
    "print(highest_salary) \n",
    "\n",
    "100000"
   ]
  },
  {
   "cell_type": "code",
   "execution_count": null,
   "metadata": {},
   "outputs": [],
   "source": [
    "Подсчёт количества элементов\n",
    "Довольно распространённой задачей для аналитика является подсчёт частоты встречаемости \n",
    "того или иного элемента в наборе данных. \n",
    "В будущем, с освоением более сложных структур, вы научитесь делать это разными методами. \n",
    "Но начнем мы решение этой важной задачи с подсчета количества элементов списка, имеющих определённое значение.\n",
    "\n",
    "Для определения этого количества в Python используется метод count. \n",
    "Синтаксис данного метода состоит из следующих элементов:\n",
    "\n",
    "имя переменной, в которой хранится список;\n",
    "точка;\n",
    "зарезервированное слово count;\n",
    "в круглых скобках — значение, частоту вхождения которого в список нужно посчитать.\n",
    "\n",
    "my_friends = ['Дмитрий', 'Евгений', 'Елена', 'Михаил', 'Елена', 'Татьяна', 'Антон', 'Елена']\n",
    "popular_name = my_friends.count('Елена')\n",
    "print(popular_name) "
   ]
  },
  {
   "cell_type": "code",
   "execution_count": 16,
   "metadata": {},
   "outputs": [
    {
     "name": "stdout",
     "output_type": "stream",
     "text": [
      "3\n"
     ]
    }
   ],
   "source": [
    "my_friends = ['Дмитрий', 'Евгений', 'Елена', 'Михаил', 'Елена', 'Татьяна', 'Антон', 'Елена']\n",
    "popular_name = my_friends.count('Елена')\n",
    "print(popular_name)"
   ]
  },
  {
   "cell_type": "code",
   "execution_count": 17,
   "metadata": {},
   "outputs": [
    {
     "ename": "TypeError",
     "evalue": "count() takes exactly one argument (0 given)",
     "output_type": "error",
     "traceback": [
      "\u001b[1;31m---------------------------------------------------------------------------\u001b[0m",
      "\u001b[1;31mTypeError\u001b[0m                                 Traceback (most recent call last)",
      "\u001b[1;32m<ipython-input-17-725bcdec4253>\u001b[0m in \u001b[0;36m<module>\u001b[1;34m\u001b[0m\n\u001b[0;32m      1\u001b[0m \u001b[0mmy_friends\u001b[0m \u001b[1;33m=\u001b[0m \u001b[1;33m[\u001b[0m\u001b[1;34m'Дмитрий'\u001b[0m\u001b[1;33m,\u001b[0m \u001b[1;34m'Евгений'\u001b[0m\u001b[1;33m,\u001b[0m \u001b[1;34m'Елена'\u001b[0m\u001b[1;33m,\u001b[0m \u001b[1;34m'Михаил'\u001b[0m\u001b[1;33m,\u001b[0m \u001b[1;34m'Елена'\u001b[0m\u001b[1;33m,\u001b[0m \u001b[1;34m'Татьяна'\u001b[0m\u001b[1;33m,\u001b[0m \u001b[1;34m'Антон'\u001b[0m\u001b[1;33m,\u001b[0m \u001b[1;34m'Елена'\u001b[0m\u001b[1;33m]\u001b[0m\u001b[1;33m\u001b[0m\u001b[1;33m\u001b[0m\u001b[0m\n\u001b[1;32m----> 2\u001b[1;33m \u001b[0mpopular_name\u001b[0m \u001b[1;33m=\u001b[0m \u001b[0mmy_friends\u001b[0m\u001b[1;33m.\u001b[0m\u001b[0mcount\u001b[0m\u001b[1;33m(\u001b[0m\u001b[1;33m)\u001b[0m\u001b[1;33m\u001b[0m\u001b[1;33m\u001b[0m\u001b[0m\n\u001b[0m\u001b[0;32m      3\u001b[0m \u001b[0mprint\u001b[0m\u001b[1;33m(\u001b[0m\u001b[0mpopular_name\u001b[0m\u001b[1;33m)\u001b[0m\u001b[1;33m\u001b[0m\u001b[1;33m\u001b[0m\u001b[0m\n",
      "\u001b[1;31mTypeError\u001b[0m: count() takes exactly one argument (0 given)"
     ]
    }
   ],
   "source": [
    "my_friends = ['Дмитрий', 'Евгений', 'Елена', 'Михаил', 'Елена', 'Татьяна', 'Антон', 'Елена']\n",
    "popular_name = my_friends.count()\n",
    "print(popular_name)"
   ]
  },
  {
   "cell_type": "code",
   "execution_count": 10,
   "metadata": {},
   "outputs": [
    {
     "name": "stdout",
     "output_type": "stream",
     "text": [
      "29000\n"
     ]
    }
   ],
   "source": [
    "salary = [100000, 45000, 78000, 29000, 55000, 60000]\n",
    "lowest_salary = min(salary)\n",
    "print(lowest_salary)"
   ]
  },
  {
   "cell_type": "code",
   "execution_count": 12,
   "metadata": {},
   "outputs": [
    {
     "name": "stdout",
     "output_type": "stream",
     "text": [
      "100000\n"
     ]
    }
   ],
   "source": [
    "salary = [100000, 45000, 78000, 29000, 55000, 60000]\n",
    "highest_salary = max(salary)\n",
    "print(highest_salary)"
   ]
  },
  {
   "cell_type": "code",
   "execution_count": 15,
   "metadata": {},
   "outputs": [
    {
     "name": "stdout",
     "output_type": "stream",
     "text": [
      "[1, 4, 9, 16, 25, 36, 49, 64, 81, 100]\n"
     ]
    }
   ],
   "source": [
    "#Задание 1\n",
    "\n",
    "my_list = []\n",
    "for number in range(1,11):\n",
    "    my_list.append(number**2)\n",
    "print(my_list)"
   ]
  },
  {
   "cell_type": "code",
   "execution_count": 18,
   "metadata": {},
   "outputs": [
    {
     "name": "stdout",
     "output_type": "stream",
     "text": [
      "2\n"
     ]
    }
   ],
   "source": [
    "#Задание 2\n",
    "\n",
    "names = ['Андрей', 'Илья', 'Александр', 'Ипполит', 'Анна', 'Константин', 'Елена', 'Мария']\n",
    "my_list = []\n",
    "for name in names:\n",
    "    my_list.append(len(name))\n",
    "name_length = min(my_list)\n",
    "result = my_list.count(name_length)\n",
    "print(result)"
   ]
  },
  {
   "cell_type": "code",
   "execution_count": 24,
   "metadata": {},
   "outputs": [
    {
     "data": {
      "text/plain": [
       "[6, 4, 9, 7, 4, 10, 5, 5]"
      ]
     },
     "execution_count": 24,
     "metadata": {},
     "output_type": "execute_result"
    }
   ],
   "source": [
    "names = ['Андрей', 'Илья', 'Александр', 'Ипполит', 'Анна', 'Константин', 'Елена', 'Мария']\n",
    "my_list = []\n",
    "for name in names:\n",
    "    my_list.append(len(name))\n",
    "my_list"
   ]
  },
  {
   "cell_type": "code",
   "execution_count": 20,
   "metadata": {},
   "outputs": [
    {
     "data": {
      "text/plain": [
       "4"
      ]
     },
     "execution_count": 20,
     "metadata": {},
     "output_type": "execute_result"
    }
   ],
   "source": [
    "names = ['Андрей', 'Илья', 'Александр', 'Ипполит', 'Анна', 'Константин', 'Елена', 'Мария']\n",
    "my_list = []\n",
    "for name in names:\n",
    "    my_list.append(len(name))\n",
    "name_length = min(my_list)\n",
    "name_length"
   ]
  },
  {
   "cell_type": "code",
   "execution_count": 25,
   "metadata": {},
   "outputs": [
    {
     "name": "stdout",
     "output_type": "stream",
     "text": [
      "97\n"
     ]
    }
   ],
   "source": [
    "#Задание 3\n",
    "\n",
    "my_list = [1, 10, 45, 31, 12, 54, 111, 398, 97, 63]\n",
    "my_list.sort(reverse = True)\n",
    "print(my_list[2])"
   ]
  },
  {
   "cell_type": "code",
   "execution_count": 26,
   "metadata": {},
   "outputs": [
    {
     "name": "stdout",
     "output_type": "stream",
     "text": [
      "399\n"
     ]
    }
   ],
   "source": [
    "#Задание 4\n",
    "\n",
    "my_list = [1, 10, 45, 31, 12, 54, 111, 398, 97, 63]\n",
    "result = max(my_list) + min(my_list) + my_list.count('batman')\n",
    "print(result)"
   ]
  },
  {
   "cell_type": "code",
   "execution_count": 28,
   "metadata": {},
   "outputs": [
    {
     "name": "stdout",
     "output_type": "stream",
     "text": [
      "590\n"
     ]
    }
   ],
   "source": [
    "#Задание 5\n",
    "\n",
    "my_list = [1, 10, 45, 31, 12, 54, 111, 398, 97, 63]\n",
    "my_list.sort(reverse = True)\n",
    "new_list = my_list[::2]\n",
    "result = 0\n",
    "for number in new_list:\n",
    "    result += number\n",
    "print(result)"
   ]
  },
  {
   "cell_type": "code",
   "execution_count": 27,
   "metadata": {},
   "outputs": [
    {
     "data": {
      "text/plain": [
       "[398, 97, 54, 31, 10]"
      ]
     },
     "execution_count": 27,
     "metadata": {},
     "output_type": "execute_result"
    }
   ],
   "source": [
    "my_list = [1, 10, 45, 31, 12, 54, 111, 398, 97, 63]\n",
    "my_list.sort(reverse = True)\n",
    "new_list = my_list[::2]\n",
    "new_list"
   ]
  },
  {
   "cell_type": "code",
   "execution_count": 31,
   "metadata": {},
   "outputs": [
    {
     "data": {
      "text/plain": [
       "[1024, 512, 256, 128, 64, 32, 16, 8, 4, 2, 1]"
      ]
     },
     "execution_count": 31,
     "metadata": {},
     "output_type": "execute_result"
    }
   ],
   "source": [
    "#Задание 6\n",
    "\n",
    "my_list = [1]\n",
    "for i in range(10):\n",
    "    my_list.append(my_list[i] * 2)\n",
    "my_list.sort(reverse = True)\n",
    "my_list"
   ]
  },
  {
   "cell_type": "code",
   "execution_count": 35,
   "metadata": {},
   "outputs": [
    {
     "name": "stdout",
     "output_type": "stream",
     "text": [
      "['а', 'а', 'а', 'б', 'б', 'п', 'п', 'я']\n",
      "3\n"
     ]
    }
   ],
   "source": [
    "#Задание 7\n",
    "\n",
    "fruits = 'яблоко банан апельсин баклажан перец помидор арбуз ананас'.split()\n",
    "my_list = []\n",
    "for fruit in fruits:\n",
    "    my_list.append(fruit[0])\n",
    "my_list.sort()\n",
    "print(my_list)\n",
    "print(my_list.count(my_list[0])) #сколько раз в списке встречается значение его первого элемента\n",
    "                                 #В методе count() аргументом может быть сам элемент массива (точнее, его значение)"
   ]
  },
  {
   "cell_type": "code",
   "execution_count": 32,
   "metadata": {
    "scrolled": true
   },
   "outputs": [
    {
     "name": "stdout",
     "output_type": "stream",
     "text": [
      "['яблоко', 'банан', 'апельсин', 'баклажан', 'перец', 'помидор', 'арбуз', 'ананас']\n",
      "яблоко\n"
     ]
    }
   ],
   "source": [
    "fruits = 'яблоко банан апельсин баклажан перец помидор арбуз ананас'.split()\n",
    "print(fruits)\n",
    "print(fruits[0])"
   ]
  },
  {
   "cell_type": "code",
   "execution_count": 34,
   "metadata": {
    "scrolled": true
   },
   "outputs": [
    {
     "name": "stdout",
     "output_type": "stream",
     "text": [
      "я\n",
      "б\n",
      "а\n",
      "б\n",
      "п\n",
      "п\n",
      "а\n",
      "а\n"
     ]
    }
   ],
   "source": [
    "fruits = 'яблоко банан апельсин баклажан перец помидор арбуз ананас'.split()\n",
    "my_list = []\n",
    "for fruit in fruits:\n",
    "    print(fruit[0]) #т.е. каждую строку мы тоже можем рассматривать как список!!!\n",
    "    my_list.append(fruit[0])"
   ]
  },
  {
   "cell_type": "code",
   "execution_count": 46,
   "metadata": {},
   "outputs": [
    {
     "name": "stdout",
     "output_type": "stream",
     "text": [
      "[3, 6, 9, 12, 15, 18, 21, 24, 27, 30, 33, 36, 39, 42, 45, 48, 51]\n"
     ]
    }
   ],
   "source": [
    "#Задание 8\n",
    "\n",
    "#Напишите программу, которая создаёт список, содержащий целые, кратные трём числа в интервале от 1 до 50. \n",
    "#Найдите сумму элементов этого списка. Результат вычислений сохраните в переменной с именем result.\n",
    "\n",
    "# Не окончено.\n",
    "\n",
    "# КРЕТИНЫ. В окне для ввода ответа:\n",
    "# Введите свое решение здесь\n",
    "#         \n",
    "#result =\n",
    "\n",
    "\n",
    "my_list = []\n",
    "number=1\n",
    "i=1\n",
    "while number<=50:\n",
    "    number=i*3\n",
    "    my_list.append(number)\n",
    "    i+=1\n",
    "print(my_list)"
   ]
  },
  {
   "cell_type": "code",
   "execution_count": 50,
   "metadata": {},
   "outputs": [
    {
     "data": {
      "text/plain": [
       "408"
      ]
     },
     "execution_count": 50,
     "metadata": {},
     "output_type": "execute_result"
    }
   ],
   "source": [
    "my_list = []\n",
    "result=0\n",
    "for i in range(1,51):\n",
    "    if i%3==0:\n",
    "        my_list.append(i)\n",
    "        result+=i\n",
    "#print(my_list)\n",
    "result\n"
   ]
  },
  {
   "cell_type": "code",
   "execution_count": 54,
   "metadata": {},
   "outputs": [
    {
     "name": "stdout",
     "output_type": "stream",
     "text": [
      "[10, 5, 7, 6, 7, 5, 7]\n"
     ]
    },
    {
     "data": {
      "text/plain": [
       "15"
      ]
     },
     "execution_count": 54,
     "metadata": {},
     "output_type": "execute_result"
    }
   ],
   "source": [
    "#Задание 9\n",
    "\n",
    "#Напишите программу, которая создаёт список my_list, содержащий длины слов из списка raw_list (дан в начале кода), \n",
    "#и находит сумму минимального и максимального элементов нового списка (my_list). \n",
    "#Результат вычислений (сумма минимального и максимального элементов списка my_list) присвойте переменной result.\n",
    "\n",
    "raw_list = ['переменные', 'циклы', 'условия', 'списки', 'словари', 'файлы', 'функции']\n",
    "my_list = []\n",
    "for word in raw_list:\n",
    "    my_list.append(len(word))\n",
    "print(my_list)\n",
    "result=min(my_list)+max(my_list)"
   ]
  },
  {
   "cell_type": "code",
   "execution_count": 55,
   "metadata": {},
   "outputs": [
    {
     "name": "stdout",
     "output_type": "stream",
     "text": [
      "2 71\n"
     ]
    }
   ],
   "source": [
    "#Задание 10*\n",
    "\n",
    "#Дан список raw_list (содержимое списка приведено в начале кода). \n",
    "#Найдите минимальное (x_min) и максимальное (x_max) значения элементов данного списка.\n",
    "#Создайте новый список my_list, состоящий из элементов списка raw_list, умноженных на x_min, \n",
    "#если элемент является чётным числом, и на x_max, в случае если элемент нечётный.\n",
    "#Найдите максимальное значение списка my_list. Результат присвойте переменной result.\n",
    "\n",
    "raw_list = [2, 8, 10, 23, 64, 49, 11, 52, 71, 14]\n",
    "rawmin=min(raw_list)\n",
    "rawmax=max(raw_list)\n",
    "print(rawmin,rawmax)"
   ]
  }
 ],
 "metadata": {
  "kernelspec": {
   "display_name": "Python 3",
   "language": "python",
   "name": "python3"
  },
  "language_info": {
   "codemirror_mode": {
    "name": "ipython",
    "version": 3
   },
   "file_extension": ".py",
   "mimetype": "text/x-python",
   "name": "python",
   "nbconvert_exporter": "python",
   "pygments_lexer": "ipython3",
   "version": "3.7.6"
  }
 },
 "nbformat": 4,
 "nbformat_minor": 4
}

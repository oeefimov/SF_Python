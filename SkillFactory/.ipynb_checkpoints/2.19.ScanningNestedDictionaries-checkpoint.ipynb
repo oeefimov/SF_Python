{
 "cells": [
  {
   "cell_type": "code",
   "execution_count": null,
   "metadata": {},
   "outputs": [],
   "source": [
    "2.19 Вложенные словари\n",
    "\n",
    "Перебор вложенных словарей происходит полностью аналогично спискам. Даже синтаксис такой же. \n",
    "Допустим, имеется словарь с данными сотрудников, и нам надо узнать телефон Владимира:\n",
    "\n",
    "contacts = {\n",
    "    'Борискин Владимир': {\n",
    "        'tel': '5387',\n",
    "        'position': 'менеджер'\n",
    "    },\n",
    "    \n",
    "    'Сомова Наталья': {\n",
    "        'tel': '5443',\n",
    "        'position': 'разработчик'\n",
    "    },\n",
    "}\n",
    "\n",
    "Для получения телефона сначала обращаемся к ключу по имени сотрудника:\n",
    "print(contacts['Борискин Владимир'])\n",
    "\n",
    "Получаем всю информацию, которую мы о нем знаем. Это снова словарь:\n",
    "# [...]\n",
    "Теперь для получения номера телефона осталось в полученном словаре обратиться к ключу tel:\n",
    "print(contacts['Борискин Владимир']['tel'])"
   ]
  },
  {
   "cell_type": "code",
   "execution_count": 4,
   "metadata": {},
   "outputs": [
    {
     "data": {
      "text/plain": [
       "{'Борискин Владимир': {'tel': '5387', 'position': 'менеджер'},\n",
       " 'Сомова Наталья': {'tel': '5443', 'position': 'разработчик'}}"
      ]
     },
     "execution_count": 4,
     "metadata": {},
     "output_type": "execute_result"
    }
   ],
   "source": [
    "contacts = {\n",
    "    'Борискин Владимир': {\n",
    "        'tel': '5387',\n",
    "        'position': 'менеджер'\n",
    "    },\n",
    "    \n",
    "    'Сомова Наталья': {\n",
    "        'tel': '5443',\n",
    "        'position': 'разработчик'\n",
    "    }\n",
    "}\n",
    "contacts"
   ]
  },
  {
   "cell_type": "code",
   "execution_count": 7,
   "metadata": {},
   "outputs": [
    {
     "name": "stdout",
     "output_type": "stream",
     "text": [
      "{'tel': '5387', 'position': 'менеджер'}\n",
      "5387\n"
     ]
    }
   ],
   "source": [
    "contacts = {\n",
    "    'Борискин Владимир': {\n",
    "        'tel': '5387',\n",
    "        'position': 'менеджер'\n",
    "    },\n",
    "    \n",
    "    'Сомова Наталья': {\n",
    "        'tel': '5443',\n",
    "        'position': 'разработчик'\n",
    "    }\n",
    "}\n",
    "print(contacts['Борискин Владимир'])\n",
    "print(contacts['Борискин Владимир']['tel'])"
   ]
  },
  {
   "cell_type": "code",
   "execution_count": null,
   "metadata": {},
   "outputs": [],
   "source": [
    "Фильтрация товарных словарей\n",
    "\n",
    "Разработчики поменяли формат выгрузки из базы данных товарных позиций. \n",
    "Теперь это список словарей, каждый столбец в котором имеет имя. \n",
    "Напишите код, который оставляет только те товары, в названии которых есть слово \"Ботинки\". \n",
    "Результат запишите в переменную csv_dict_boots\n",
    "\n",
    "csv_dict = [\n",
    "    {'id': '100412', 'position': 'Ботинки для горных лыж ATOMIC Hawx Prime 100', 'count': 9},\n",
    "    {'id': '100728', 'position': 'Скейтборд Jdbug RT03', 'count': 32},\n",
    "    {'id': '100732', 'position': 'Роллерсерф Razor RipStik Bright', 'count': 11},\n",
    "    {'id': '100803', 'position': 'Ботинки для сноуборда DC Tucknee', 'count': 20},\n",
    "    {'id': '100898', 'position': 'Шагомер Omron HJA-306', 'count': 2},\n",
    "    {'id': '100934', 'position': 'Пульсометр Beurer PM62', 'count': 17},\n",
    "]"
   ]
  },
  {
   "cell_type": "code",
   "execution_count": 14,
   "metadata": {},
   "outputs": [
    {
     "name": "stdout",
     "output_type": "stream",
     "text": [
      "[{'id': '100412', 'position': 'Ботинки для горных лыж ATOMIC Hawx Prime 100', 'count': 9}, {'id': '100803', 'position': 'Ботинки для сноуборда DC Tucknee', 'count': 20}]\n"
     ]
    }
   ],
   "source": [
    "csv_dict = [\n",
    "    {'id': '100412', 'position': 'Ботинки для горных лыж ATOMIC Hawx Prime 100', 'count': 9},\n",
    "    {'id': '100728', 'position': 'Скейтборд Jdbug RT03', 'count': 32},\n",
    "    {'id': '100732', 'position': 'Роллерсерф Razor RipStik Bright', 'count': 11},\n",
    "    {'id': '100803', 'position': 'Ботинки для сноуборда DC Tucknee', 'count': 20},\n",
    "    {'id': '100898', 'position': 'Шагомер Omron HJA-306', 'count': 2},\n",
    "    {'id': '100934', 'position': 'Пульсометр Beurer PM62', 'count': 17},\n",
    "]\n",
    "csv_dict_boots=[]\n",
    "for record in csv_dict:\n",
    "    if 'Ботинки' in record['position']:\n",
    "#        print(record)\n",
    "        csv_dict_boots.append(record)\n",
    "#print(csv_dict_boots)"
   ]
  }
 ],
 "metadata": {
  "kernelspec": {
   "display_name": "Python 3",
   "language": "python",
   "name": "python3"
  },
  "language_info": {
   "codemirror_mode": {
    "name": "ipython",
    "version": 3
   },
   "file_extension": ".py",
   "mimetype": "text/x-python",
   "name": "python",
   "nbconvert_exporter": "python",
   "pygments_lexer": "ipython3",
   "version": "3.7.6"
  }
 },
 "nbformat": 4,
 "nbformat_minor": 4
}

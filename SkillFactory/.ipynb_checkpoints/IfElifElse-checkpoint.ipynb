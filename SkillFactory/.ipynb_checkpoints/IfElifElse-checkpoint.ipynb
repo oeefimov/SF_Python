{
 "cells": [
  {
   "cell_type": "code",
   "execution_count": 10,
   "metadata": {},
   "outputs": [
    {
     "name": "stdout",
     "output_type": "stream",
     "text": [
      "7\n",
      "воскресенье\n"
     ]
    }
   ],
   "source": [
    "# Задание 1\n",
    "# Напишите программу, которая принимает на вход от пользователя число от 1 до 7 (переменная number)\n",
    "# и выводит на экран соответствующий день недели (на русском языке с маленькой буквы).\n",
    "# Например, при вводе единицы появляется надпись \"понедельник\". Для проверки используйте number = 5\n",
    "number = int(input())\n",
    "if number==1:\n",
    "    print('понедельник')\n",
    "elif number==2:\n",
    "    print('вторник')\n",
    "elif number==3:\n",
    "    print('среда')\n",
    "elif number==4:\n",
    "    print('четверг')\n",
    "elif number==5:\n",
    "    print('пятница')\n",
    "elif number==6:\n",
    "    print('суббота')\n",
    "else:\n",
    "    print('воскресенье')"
   ]
  }
 ],
 "metadata": {
  "kernelspec": {
   "display_name": "Python 3",
   "language": "python",
   "name": "python3"
  },
  "language_info": {
   "codemirror_mode": {
    "name": "ipython",
    "version": 3
   },
   "file_extension": ".py",
   "mimetype": "text/x-python",
   "name": "python",
   "nbconvert_exporter": "python",
   "pygments_lexer": "ipython3",
   "version": "3.7.6"
  }
 },
 "nbformat": 4,
 "nbformat_minor": 4
}

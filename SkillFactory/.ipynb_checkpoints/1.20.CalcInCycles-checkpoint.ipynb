{
 "cells": [
  {
   "cell_type": "code",
   "execution_count": 1,
   "metadata": {},
   "outputs": [
    {
     "name": "stdout",
     "output_type": "stream",
     "text": [
      "49.41177778422102\n"
     ]
    }
   ],
   "source": [
    "# Если нам нужно получить сумму корней чисел для диапазона чисел:\n",
    "# В этом примере для каждого числа от 20 до 29 включительно выполняется тело цикла, \n",
    "# в данном случае это прибавление к переменной sum_squares корня числа i, после чего сумма корней выводится на экран.\n",
    "\n",
    "sum_squares = 0\n",
    "for i in range(20, 30):\n",
    "    sum_squares += i**(1/2)\n",
    "print(sum_squares)"
   ]
  }
 ],
 "metadata": {
  "kernelspec": {
   "display_name": "Python 3",
   "language": "python",
   "name": "python3"
  },
  "language_info": {
   "codemirror_mode": {
    "name": "ipython",
    "version": 3
   },
   "file_extension": ".py",
   "mimetype": "text/x-python",
   "name": "python",
   "nbconvert_exporter": "python",
   "pygments_lexer": "ipython3",
   "version": "3.7.6"
  }
 },
 "nbformat": 4,
 "nbformat_minor": 4
}

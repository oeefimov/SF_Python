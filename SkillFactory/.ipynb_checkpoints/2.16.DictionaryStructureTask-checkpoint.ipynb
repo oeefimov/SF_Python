{
 "cells": [
  {
   "cell_type": "code",
   "execution_count": null,
   "metadata": {},
   "outputs": [],
   "source": [
    "2.16 Задачи на структуру словарей\n",
    "\n",
    "Задание 1\n",
    "Сотрудник ведет запись ежедневных расходов по партнерам. \n",
    "Он мог бы записывать суммы за 1-3 апреля в знакомые нам списки, но это не очень удобно: [2504, 4994, 6343]. \n",
    "Оформите расходы в словарь, в котором ключами являются даты ('2019-04-01', '2019-04-02', '2019-04-03' апреля), \n",
    "а значениями — суммы расходов (2504, 4994 и 6343 рублей соответственно).\n",
    "\n",
    "Задание 2\n",
    "Посчитайте сумму расходов из словаря первой задачи"
   ]
  },
  {
   "cell_type": "code",
   "execution_count": 1,
   "metadata": {},
   "outputs": [
    {
     "data": {
      "text/plain": [
       "{'2019-04-01': '2504', '2019-04-02': '4994', '2019-04-03': '6343'}"
      ]
     },
     "execution_count": 1,
     "metadata": {},
     "output_type": "execute_result"
    }
   ],
   "source": [
    "expenses = {\n",
    "\t'2019-04-01': '2504',\n",
    "\t'2019-04-02': '4994',\n",
    "\t'2019-04-03': '6343'\n",
    "}"
   ]
  },
  {
   "cell_type": "code",
   "execution_count": 5,
   "metadata": {},
   "outputs": [
    {
     "data": {
      "text/plain": [
       "13841"
      ]
     },
     "execution_count": 5,
     "metadata": {},
     "output_type": "execute_result"
    }
   ],
   "source": [
    "expenses = {\n",
    "\t'2019-04-01': '2504',\n",
    "\t'2019-04-02': '4994',\n",
    "\t'2019-04-03': '6343'\n",
    "}\n",
    "total=0\n",
    "for exp in expenses.values():\n",
    "    total+=int(exp)\n",
    "total"
   ]
  }
 ],
 "metadata": {
  "kernelspec": {
   "display_name": "Python 3",
   "language": "python",
   "name": "python3"
  },
  "language_info": {
   "codemirror_mode": {
    "name": "ipython",
    "version": 3
   },
   "file_extension": ".py",
   "mimetype": "text/x-python",
   "name": "python",
   "nbconvert_exporter": "python",
   "pygments_lexer": "ipython3",
   "version": "3.7.6"
  }
 },
 "nbformat": 4,
 "nbformat_minor": 4
}

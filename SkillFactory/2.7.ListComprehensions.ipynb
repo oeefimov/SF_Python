{
 "cells": [
  {
   "cell_type": "code",
   "execution_count": null,
   "metadata": {},
   "outputs": [],
   "source": [
    "2.7 Генераторы списков\n",
    "\n",
    "Осторожно! Шок-контент!!!\n",
    "\n",
    "Ну что же, настало время открыть вам шокирующую правду :)\n",
    "Python — это язык программирования со своей философией, суть которой заключается в создании краткого, \n",
    "структурированного, легко читаемого кода. Хотя суть шокирующего заявления, конечно же, не в этом.\n",
    "\n",
    "Для достижения этих задач в Python используется несколько мощных конструкций, \n",
    "позволяющих создавать краткий, но ёмкий и эффективный код. \n",
    "Одна из таких конструкций — это генераторы списков (list comprehensions). \n",
    "Генератор списка позволяет создать список и заполнить его данными, используя всего одну строку кода. \n",
    "Выглядит это приблизительно так:\n",
    "\n",
    "my_list = [x for x in range(1, 25, 2)]"
   ]
  },
  {
   "cell_type": "code",
   "execution_count": 1,
   "metadata": {
    "scrolled": true
   },
   "outputs": [
    {
     "data": {
      "text/plain": [
       "[1, 3, 5, 7, 9, 11, 13, 15, 17, 19, 21, 23]"
      ]
     },
     "execution_count": 1,
     "metadata": {},
     "output_type": "execute_result"
    }
   ],
   "source": [
    "my_list = [x for x in range(1, 25, 2)]\n",
    "my_list"
   ]
  },
  {
   "cell_type": "code",
   "execution_count": null,
   "metadata": {},
   "outputs": [],
   "source": [
    "Могли ли вы предполагать ещё 15 минут назад, что код, который при выполнении заданий предыдущего раздела \n",
    "занимал у вас несколько строк, можно уместить в одну строку? \n",
    "Тем не менее, код существует и отлично работает, в чем можно убедиться, загрузив его в Jupyter Notebook:\n",
    "[(см. блок выше)]\n",
    "Как следует из результатов выполнения кода, он создаёт список, состоящий из нечётных чисел от 1 до 23 включительно. \n",
    "Но как же всё это работает? Об этом — в следующем блоке."
   ]
  },
  {
   "cell_type": "code",
   "execution_count": null,
   "metadata": {},
   "outputs": [],
   "source": [
    "Как работает генератор списков?\n",
    "Давайте попробуем разобраться в механизме работы кода, использующего list comprehensions:\n",
    "my_list = [x for x in range(1, 25, 2)]\n",
    "\n",
    "Давайте пошагово рассмотрим данный код и попробуем расшифровать каждое действие:\n",
    "\n",
    "Код создаёт список, который будет храниться в переменной my_list.\n",
    "Содержимое списка будет состоять из значений переменной x.[в данном случае] \n",
    "[вообще вместо x может стоять любой другое выражение - напр., x-2 или x**y (см. примеры далее)]\n",
    "Переменная x последовательно меняет значения в диапазоне от 1 до 25 (не включая 25) с шагом 2. \n",
    "Каждый раз, когда переменная x получает новое значение (т.е. на каждом шаге цикла), это значение добавляется в список my_list.\n",
    "\n",
    "Безусловно, эти же действия можно выполнить и традиционным, уже известным вам способом. \n",
    "Попробуйте написать традиционный код для создания списка нечётных чисел от 1 до 23 самостоятельно."
   ]
  },
  {
   "cell_type": "code",
   "execution_count": 2,
   "metadata": {},
   "outputs": [
    {
     "name": "stdout",
     "output_type": "stream",
     "text": [
      "[1, 3, 5, 7, 9, 11, 13, 15, 17, 19, 21, 23]\n"
     ]
    }
   ],
   "source": [
    "my_list = []\n",
    "for x in range (1, 25, 2):\n",
    "    my_list.append(x)\n",
    "print(my_list)"
   ]
  },
  {
   "cell_type": "code",
   "execution_count": null,
   "metadata": {},
   "outputs": [],
   "source": [
    "Генераторы списков могут содержать и более сложные конструкции, в том числе условия и дополнительные циклы.\n",
    "\n",
    "Например, в этом коде мы создаём список, содержащий двузначные числа, кратные одновременно трём и пяти:\n",
    "my_list = [x for x in range(10, 100) if x%3 == 0 and x%5 == 0]\n",
    "\n",
    "А здесь в результате выполнения кода получится список, содержащий результаты возведения чисел \n",
    "от 1 до 9 включительно в квадрат и в десятую степень:\n",
    "powers = [x**y for x in range(1, 10) for y in [2,10]]\n",
    "\n",
    "Попробуйте запустить оба кода в Jupyter Notebook и убедитесь в том, что полученные списки содержат именно ту информацию, \n",
    "о которой говорится в этом описании."
   ]
  },
  {
   "cell_type": "code",
   "execution_count": 3,
   "metadata": {},
   "outputs": [
    {
     "data": {
      "text/plain": [
       "[15, 30, 45, 60, 75, 90]"
      ]
     },
     "execution_count": 3,
     "metadata": {},
     "output_type": "execute_result"
    }
   ],
   "source": [
    "my_list = [x for x in range(10, 100) if x%3 == 0 and x%5 == 0]\n",
    "my_list"
   ]
  },
  {
   "cell_type": "code",
   "execution_count": 6,
   "metadata": {},
   "outputs": [
    {
     "name": "stdout",
     "output_type": "stream",
     "text": [
      "[1, 1, 4, 1024, 9, 59049, 16, 1048576, 25, 9765625, 36, 60466176, 49, 282475249, 64, 1073741824, 81, 3486784401]\n"
     ]
    }
   ],
   "source": [
    "powers = [x**y for x in range(1, 10) for y in [2,10]]\n",
    "print(powers)"
   ]
  },
  {
   "cell_type": "code",
   "execution_count": 10,
   "metadata": {
    "scrolled": true
   },
   "outputs": [
    {
     "name": "stdout",
     "output_type": "stream",
     "text": [
      "[3, 6, 9, 12, 15, 18, 21, 24, 27, 30, 33, 36, 39, 42, 45, 48, 51, 54, 57, 60, 63, 66, 69, 72, 75, 78, 81, 84, 87, 90, 93, 96, 99]\n"
     ]
    }
   ],
   "source": [
    "#Задание 1\n",
    "numbers = [x for x in range(3,100,3)]\n",
    "print(numbers)"
   ]
  },
  {
   "cell_type": "code",
   "execution_count": 11,
   "metadata": {},
   "outputs": [
    {
     "name": "stdout",
     "output_type": "stream",
     "text": [
      "[100, 225, 400, 625, 900, 1225, 1600, 2025, 2500, 3025, 3600, 4225, 4900, 5625, 6400, 7225, 8100, 9025]\n"
     ]
    }
   ],
   "source": [
    "#Задание 2\n",
    "numbers = [x**2 for x in range(10, 100, 5)]\n",
    "print(numbers)"
   ]
  },
  {
   "cell_type": "code",
   "execution_count": 12,
   "metadata": {
    "scrolled": true
   },
   "outputs": [
    {
     "name": "stdout",
     "output_type": "stream",
     "text": [
      "[3, 5, 7, 6, 10, 14, 9, 15, 21, 12, 20, 28, 15, 25, 35, 18, 30, 42, 21, 35, 49, 24, 40, 56, 27, 45, 63]\n"
     ]
    }
   ],
   "source": [
    "#Задание 3\n",
    "numbers = [x*y for x in range(1, 10) for y in [3, 5, 7]]\n",
    "print(numbers)"
   ]
  },
  {
   "cell_type": "code",
   "execution_count": 13,
   "metadata": {},
   "outputs": [
    {
     "name": "stdout",
     "output_type": "stream",
     "text": [
      "[3, 5, 6, 7, 9, 10, 12, 14, 15, 18, 20, 21, 24, 25, 27, 28, 30, 33, 35, 36, 39, 40, 42, 45, 48, 49, 50, 51, 54, 55, 56, 57, 60, 63, 65, 66, 69, 70, 72, 75, 77, 78, 80, 81, 84, 85, 87, 90, 91, 93, 95, 96, 98, 99]\n"
     ]
    }
   ],
   "source": [
    "#Задание 4\n",
    "numbers = [x for x in range(1, 100) if x%3 == 0 or x%5 == 0 or x%7 == 0]\n",
    "print(numbers)"
   ]
  },
  {
   "cell_type": "code",
   "execution_count": 1,
   "metadata": {},
   "outputs": [
    {
     "name": "stdout",
     "output_type": "stream",
     "text": [
      "[3, 5, 7, 11, 13, 17, 19, 23, 29, 31, 37, 41, 43, 47, 53, 59, 61, 67, 71, 73, 79, 83, 89, 97]\n"
     ]
    }
   ],
   "source": [
    "#Задание 5\n",
    "numbers = [x for x in range(3,100) if [x%y for y in range(2,x)].count(0) == 0]\n",
    "print(numbers)"
   ]
  },
  {
   "cell_type": "code",
   "execution_count": 2,
   "metadata": {},
   "outputs": [
    {
     "data": {
      "text/plain": [
       "[1, 1, 3, 2, 1]"
      ]
     },
     "execution_count": 2,
     "metadata": {},
     "output_type": "execute_result"
    }
   ],
   "source": [
    "x=7\n",
    "rests=[x%y for y in range(2,x)]\n",
    "rests"
   ]
  },
  {
   "cell_type": "code",
   "execution_count": 3,
   "metadata": {},
   "outputs": [
    {
     "data": {
      "text/plain": [
       "[0, 2, 0, 3, 2, 1]"
      ]
     },
     "execution_count": 3,
     "metadata": {},
     "output_type": "execute_result"
    }
   ],
   "source": [
    "x=8\n",
    "rests=[x%y for y in range(2,x)]\n",
    "rests"
   ]
  },
  {
   "cell_type": "code",
   "execution_count": 8,
   "metadata": {},
   "outputs": [
    {
     "data": {
      "text/plain": [
       "['п', 'р', 'в', 'т']"
      ]
     },
     "execution_count": 8,
     "metadata": {},
     "output_type": "execute_result"
    }
   ],
   "source": [
    "#Задание 6\n",
    "#Какой код можно использовать для создания списка, содержащего согласные буквы из слова \"привет\"?\n",
    "\n",
    "#my_list = [x for x in 'п р и в е т'.split()]\n",
    "my_list = [x for x in 'привет' if x in ['п', 'р', 'в', 'т']]\n",
    "#my_list = 'привет'.split()[if x in ['п', 'р', 'в', 'т']]\n",
    "#my_list = [x for x in 'привет' for y in ['п', 'р', 'в', 'т']]\n",
    "my_list"
   ]
  },
  {
   "cell_type": "code",
   "execution_count": 14,
   "metadata": {},
   "outputs": [
    {
     "name": "stdout",
     "output_type": "stream",
     "text": [
      "['а', 'з', 'и', 'н', 'н', 'о', 'о', 'о', 'р', 'р', 'с', 'т', 'ф', 'х']\n"
     ]
    }
   ],
   "source": [
    "#Задание 7\n",
    "\n",
    "#Какой код можно использовать для создания списка, содержащего буквы из слова \"синхрофазотрон\", \n",
    "#расставленные в алфавитном порядке?\n",
    "\n",
    "my_list = sorted([x for x in 'синхрофазотрон'])\n",
    "print(my_list)\n",
    "\n",
    "# !Ничего про sorted раньше не было. Как оно используется? КРЕТИНЫ."
   ]
  },
  {
   "cell_type": "code",
   "execution_count": 19,
   "metadata": {},
   "outputs": [
    {
     "name": "stdout",
     "output_type": "stream",
     "text": [
      "[9.9, 11, 12.100000000000001, 10.8, 12, 13.200000000000001, 11.700000000000001, 13, 14.3, 12.6, 14, 15.400000000000002, 13.5, 15, 16.5, 14.4, 16, 17.6, 15.3, 17, 18.700000000000003, 16.2, 18, 19.8, 17.1, 19, 20.900000000000002]\n"
     ]
    }
   ],
   "source": [
    "#Задание 8\n",
    "#Какой код можно использовать для создания списка, содержащего значения 90%, 100% и 110% от каждого целого числа \n",
    "#в интервале от 11 до 19 включительно?\n",
    "\n",
    "#my_list = [x*0.9, x*1, x*1.1 for x in range(11,20)]\n",
    "#my_list = [x*y for x in range(11,20) for y in [90%, 100%, 110%]]\n",
    "#my_list = [x*y for x in range(11,20) for y in ['90%', '100%', '110%']]\n",
    "my_list = [x*y for x in range(11,20) for y in [0.9, 1, 1.1]]\n",
    "print(my_list)"
   ]
  },
  {
   "cell_type": "code",
   "execution_count": 20,
   "metadata": {},
   "outputs": [
    {
     "name": "stdout",
     "output_type": "stream",
     "text": [
      "[2.6457513110645907, 3.7416573867739413, 4.58257569495584, 5.291502622129181, 5.916079783099616, 6.48074069840786, 7.0]\n"
     ]
    }
   ],
   "source": [
    "#Задание 9\n",
    "#Перепишите привёденный ниже код, используя генератор списков. \n",
    "#Полученный в результате работы генератора список должен иметь имя my_list.\n",
    "\n",
    "#my_list = []\n",
    "#for x in range(1, 50):\n",
    "#    if x%7 == 0:\n",
    "#        my_list.append(x**0.5)\n",
    "my_list = [x**0.5 for x in range(1, 50) if x%7 == 0]\n",
    "print(my_list)"
   ]
  },
  {
   "cell_type": "code",
   "execution_count": 27,
   "metadata": {},
   "outputs": [
    {
     "name": "stdout",
     "output_type": "stream",
     "text": [
      "[9, 10, 11, 12, 13, 14, 15, 16, 17, 18]\n"
     ]
    }
   ],
   "source": [
    "#Задание 10*\n",
    "#Перепишите привёденный ниже код, используя генератор списков. \n",
    "#Полученный в результате работы генератора список должен иметь имя my_list.\n",
    "\n",
    "#my_list = []\n",
    "#for x in range(90, 100):\n",
    "#    first_digit = x//10\n",
    "#    last_digit = x%10\n",
    "#    my_list.append(first_digit + last_digit)\n",
    "my_list = [x//10+x%10 for x in range(90, 100)]\n",
    "print(my_list)    "
   ]
  }
 ],
 "metadata": {
  "kernelspec": {
   "display_name": "Python 3",
   "language": "python",
   "name": "python3"
  },
  "language_info": {
   "codemirror_mode": {
    "name": "ipython",
    "version": 3
   },
   "file_extension": ".py",
   "mimetype": "text/x-python",
   "name": "python",
   "nbconvert_exporter": "python",
   "pygments_lexer": "ipython3",
   "version": "3.7.6"
  }
 },
 "nbformat": 4,
 "nbformat_minor": 4
}

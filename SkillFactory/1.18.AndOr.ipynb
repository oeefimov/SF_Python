{
 "cells": [
  {
   "cell_type": "code",
   "execution_count": 6,
   "metadata": {},
   "outputs": [
    {
     "data": {
      "text/plain": [
       "False"
      ]
     },
     "execution_count": 6,
     "metadata": {},
     "output_type": "execute_result"
    }
   ],
   "source": [
    "5 < 3 or 6 > 7 or 4 > 9"
   ]
  },
  {
   "cell_type": "code",
   "execution_count": 5,
   "metadata": {},
   "outputs": [
    {
     "data": {
      "text/plain": [
       "True"
      ]
     },
     "execution_count": 5,
     "metadata": {},
     "output_type": "execute_result"
    }
   ],
   "source": [
    "x = 5 \n",
    "y = 10\n",
    "y > x * x or y >= 2 * x and x < y"
   ]
  },
  {
   "cell_type": "code",
   "execution_count": 3,
   "metadata": {},
   "outputs": [
    {
     "data": {
      "text/plain": [
       "False"
      ]
     },
     "execution_count": 3,
     "metadata": {},
     "output_type": "execute_result"
    }
   ],
   "source": [
    "a = True \n",
    "b = False\n",
    "a and b or not a and not b"
   ]
  },
  {
   "cell_type": "code",
   "execution_count": 1,
   "metadata": {},
   "outputs": [
    {
     "name": "stdout",
     "output_type": "stream",
     "text": [
      "true\n"
     ]
    }
   ],
   "source": [
    "if '239'<'39':\n",
    "    print('true')\n",
    "else:\n",
    "    print('false')"
   ]
  },
  {
   "cell_type": "code",
   "execution_count": 2,
   "metadata": {},
   "outputs": [
    {
     "data": {
      "text/plain": [
       "True"
      ]
     },
     "execution_count": 2,
     "metadata": {},
     "output_type": "execute_result"
    }
   ],
   "source": [
    "'239'<'39'"
   ]
  },
  {
   "cell_type": "code",
   "execution_count": 4,
   "metadata": {},
   "outputs": [
    {
     "data": {
      "text/plain": [
       "True"
      ]
     },
     "execution_count": 4,
     "metadata": {},
     "output_type": "execute_result"
    }
   ],
   "source": [
    "\"239\" < \"30\" and 239 > 30"
   ]
  },
  {
   "cell_type": "code",
   "execution_count": 8,
   "metadata": {},
   "outputs": [
    {
     "data": {
      "text/plain": [
       "True"
      ]
     },
     "execution_count": 8,
     "metadata": {},
     "output_type": "execute_result"
    }
   ],
   "source": [
    "\"5a\"<\"5b\" and 123/2 > 30 or True"
   ]
  },
  {
   "cell_type": "code",
   "execution_count": 7,
   "metadata": {},
   "outputs": [
    {
     "data": {
      "text/plain": [
       "False"
      ]
     },
     "execution_count": 7,
     "metadata": {},
     "output_type": "execute_result"
    }
   ],
   "source": [
    "False and True or 12<5**2 and \"Python\" > \"Ruby\""
   ]
  },
  {
   "cell_type": "code",
   "execution_count": 9,
   "metadata": {},
   "outputs": [
    {
     "data": {
      "text/plain": [
       "True"
      ]
     },
     "execution_count": 9,
     "metadata": {},
     "output_type": "execute_result"
    }
   ],
   "source": [
    "\"Android\" > \"Apple\" or \"Apple\" > \"Android\""
   ]
  },
  {
   "cell_type": "code",
   "execution_count": 10,
   "metadata": {},
   "outputs": [
    {
     "data": {
      "text/plain": [
       "True"
      ]
     },
     "execution_count": 10,
     "metadata": {},
     "output_type": "execute_result"
    }
   ],
   "source": [
    "x = 10 \n",
    "y = 15\n",
    "y > x**y - 1000 or \"test\" > \"push\""
   ]
  },
  {
   "cell_type": "code",
   "execution_count": 16,
   "metadata": {},
   "outputs": [
    {
     "name": "stdout",
     "output_type": "stream",
     "text": [
      "Аня не фанат таких цветов\n"
     ]
    }
   ],
   "source": [
    "# Задание 2\n",
    "\n",
    "# Аня очень любит цветы, но далеко не все. Только если это синие или белые розы. \n",
    "# Напишите программу, которая принимает на вход цвет цветов (color) и название цветов (flower) в начальной форме \n",
    "# и говорит, понравятся ли они Ане. (Варианты ответа: \"Ане понравятся эти цветы\", \"Аня не фанат таких цветов\"). \n",
    "# Для проверки используйте flower = 'роза' и color = 'фиолетовый'\n",
    "\n",
    "flower = str(input())\n",
    "color = str(input())\n",
    "#flower = 'роза' \n",
    "#color = 'фиолетовый'\n",
    "if flower == 'роза' and (color == 'белый' or color == 'синий'):\n",
    "    print('Ане понравятся эти цветы')\n",
    "else:\n",
    "    print('Аня не фанат таких цветов')"
   ]
  },
  {
   "cell_type": "code",
   "execution_count": 23,
   "metadata": {},
   "outputs": [
    {
     "name": "stdout",
     "output_type": "stream",
     "text": [
      "Попробуем поискать ещё...\n"
     ]
    }
   ],
   "source": [
    "# Задание 3\n",
    "\n",
    "# Вы работаете в агентстве знакомств. К вам обратилась некая Алла. \n",
    "# Она ищет мужчину, рост которого выше 170 см, вес — менее 80 кг и его любимый цвет — красный. \n",
    "# Напишите программу, которая позволит определить, подходит ли Алле тот или иной кандидат. \n",
    "# Программа должна выводить фразу: \"Ваша половинка нашлась!\", если подходит, и \"Попробуем поискать ещё...\", если нет. \n",
    "# Для проверки используйте height = 180, weight = 92 и color = 'синий'.\n",
    "\n",
    "#height = int(input())\n",
    "#weight = int(input())\n",
    "#color = str(input())\n",
    "height = 180\n",
    "weight = 92\n",
    "color = 'синий'\n",
    "if height>170 and weight<80 and color == 'красный':\n",
    "    print('Ваша половинка нашлась!')\n",
    "else:\n",
    "    print('Попробуем поискать ещё...')"
   ]
  },
  {
   "cell_type": "code",
   "execution_count": 31,
   "metadata": {},
   "outputs": [
    {
     "name": "stdout",
     "output_type": "stream",
     "text": [
      "Вова, это нужное число\n"
     ]
    }
   ],
   "source": [
    "#Задание 4\n",
    "\n",
    "#Мальчику Вове для решения домашней работы по математике потребовалось написать программу, которая выясняет, \n",
    "#имеется ли среди делителей числа числа 2, 5, 173 или 821. \n",
    "#Напишите программу, которая получает на вход целое число (number) и отвечает Вове \n",
    "#\"Вова, это нужное число\", если среди делителей есть хотя бы одно число из 2, 5, 173, 821, \n",
    "#или \"Вова, в этот раз ты не попал\", если это не так. Для проверки используйте number = 346\n",
    "\n",
    "number = int(input())\n",
    "#number = 346\n",
    "if number%2==0 or number%5==0 or number%173==0 or number%821==0:\n",
    "    print('Вова, это нужное число')\n",
    "else:\n",
    "    print('Вова, в этот раз ты не попал')"
   ]
  },
  {
   "cell_type": "code",
   "execution_count": 41,
   "metadata": {},
   "outputs": [
    {
     "name": "stdout",
     "output_type": "stream",
     "text": [
      "Python\n"
     ]
    }
   ],
   "source": [
    "#Задание 5\n",
    "\n",
    "#Вы решили сделать систему, которая может подобрать для людей язык программирования в зависимости от их любимого слова. \n",
    "#Напишите программу, которая может вам в этом помочь. Программа принимает на вход слово (fav_word), \n",
    "#и если это \"рептилия\", \"питон\" или \"змея\", выводит \"Python\", \n",
    "#если это \"плюс\" или \"плюсы\", выводит \"C++\", если это \"рубин\" или \"кристалл\", выводит \"Ruby\". \n",
    "#Ну, а если что-то другое, то тоже выводит \"Python\". Для проверки используйте fav_word = 'Аппликация'\n",
    "\n",
    "#fav_word = str(input())\n",
    "fav_word = 'Аппликация'\n",
    "if fav_word=='плюс' or fav_word=='плюсы':\n",
    "    print('C++')\n",
    "elif fav_word=='рубин' or fav_word=='кристалл':\n",
    "    print('Ruby')\n",
    "else:\n",
    "    print('Python')"
   ]
  },
  {
   "cell_type": "code",
   "execution_count": 64,
   "metadata": {},
   "outputs": [
    {
     "name": "stdout",
     "output_type": "stream",
     "text": [
      "Преподаватель занят.\n"
     ]
    }
   ],
   "source": [
    "#Задание 6\n",
    "\n",
    "#Преподаватель ведёт занятия с 10:30 до 12:00, с 13:40 до 15:00, с 18:00 до 19:30. \n",
    "#В университет он приходит в 10 утра, а уходит - в 20 часов. \n",
    "#Время в университете, свободное от занятий, он посвящает консультированию студентов. \n",
    "#Напишите программу, которая помогла бы студентам подстроиться под свободное время преподавателя: \n",
    "#пусть они вводят желаемое время (сначала одно число — часы (hour), затем второе — минуты (minute)), \n",
    "#а программа показывает, свободен преподаватель в это время или нет \n",
    "#(выводит на экран \"Преподаватель свободен.\" или \"Преподаватель занят.\", соответственно). \n",
    "#Для проверки используйте hour = 18 и minute = 47\n",
    "\n",
    "#hour = int(input())\n",
    "#minute = int(input())\n",
    "hour = 18\n",
    "minute = 47\n",
    "if (hour==10 and minute<30) or (hour==12 and minute>0) or (hour==13 and minute<40) or (hour==15 and minute>0) or hour==16 or hour==17 or (hour==19 and minute>30):\n",
    "    print('Преподаватель свободен.')\n",
    "else:\n",
    "    print('Преподаватель занят.')"
   ]
  },
  {
   "cell_type": "code",
   "execution_count": 48,
   "metadata": {},
   "outputs": [
    {
     "name": "stdout",
     "output_type": "stream",
     "text": [
      "9\n"
     ]
    },
    {
     "data": {
      "text/plain": [
       "True"
      ]
     },
     "execution_count": 48,
     "metadata": {},
     "output_type": "execute_result"
    }
   ],
   "source": [
    "hour = int(input())\n",
    "6<hour<10"
   ]
  },
  {
   "cell_type": "code",
   "execution_count": null,
   "metadata": {},
   "outputs": [],
   "source": []
  }
 ],
 "metadata": {
  "kernelspec": {
   "display_name": "Python 3",
   "language": "python",
   "name": "python3"
  },
  "language_info": {
   "codemirror_mode": {
    "name": "ipython",
    "version": 3
   },
   "file_extension": ".py",
   "mimetype": "text/x-python",
   "name": "python",
   "nbconvert_exporter": "python",
   "pygments_lexer": "ipython3",
   "version": "3.7.6"
  }
 },
 "nbformat": 4,
 "nbformat_minor": 4
}

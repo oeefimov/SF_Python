{
 "cells": [
  {
   "cell_type": "code",
   "execution_count": null,
   "metadata": {},
   "outputs": [],
   "source": [
    "2.20 Задачи на вложенные структуры\n",
    "\n",
    "Задание 1\n",
    "Как из словаря сотрудников в прошлом шаге получить позицию Натальи (“разработчик”)?\n",
    "print(contacts['Сомова Наталья'][0])\n",
    "print(contacts['Сомова Наталья']['position'])\n",
    "print(contacts[1]['tel'])"
   ]
  },
  {
   "cell_type": "code",
   "execution_count": 1,
   "metadata": {},
   "outputs": [
    {
     "name": "stdout",
     "output_type": "stream",
     "text": [
      "разработчик\n"
     ]
    }
   ],
   "source": [
    "contacts = {\n",
    "    'Борискин Владимир': {\n",
    "        'tel': '5387',\n",
    "        'position': 'менеджер'\n",
    "    },\n",
    "    \n",
    "    'Сомова Наталья': {\n",
    "        'tel': '5443',\n",
    "        'position': 'разработчик'\n",
    "    }\n",
    "}\n",
    "print(contacts['Сомова Наталья']['position'])"
   ]
  },
  {
   "cell_type": "code",
   "execution_count": null,
   "metadata": {},
   "outputs": [],
   "source": [
    "Задание 2\n",
    "Дана статистика результатов рекламной кампании по каналу (ключ 'source') и сумме расходов ('cost').\n",
    "results = [\n",
    "\t{'cost': 98, 'source': 'vk'},\n",
    "\t{'cost': 153, 'source': 'yandex'},\n",
    "\t{'cost': 110, 'source': 'facebook'},\n",
    "]\n",
    "Напишите код, который ищет минимальное значение ключа cost в этом словаре. Укажите это значение в качестве ответа"
   ]
  },
  {
   "cell_type": "code",
   "execution_count": 7,
   "metadata": {},
   "outputs": [
    {
     "data": {
      "text/plain": [
       "98"
      ]
     },
     "execution_count": 7,
     "metadata": {},
     "output_type": "execute_result"
    }
   ],
   "source": [
    "results = [\n",
    "\t{'cost': 98, 'source': 'vk'},\n",
    "\t{'cost': 153, 'source': 'yandex'},\n",
    "\t{'cost': 110, 'source': 'facebook'},\n",
    "]\n",
    "costs=[]\n",
    "for record in results:\n",
    "    costs.append(record['cost'])\n",
    "min(costs)\n",
    "    "
   ]
  },
  {
   "cell_type": "code",
   "execution_count": null,
   "metadata": {},
   "outputs": [],
   "source": [
    "Задание 3\n",
    "На каждом этапе производственной линии закладываются отклонения от исходных размеров, ведущие к деформации, \n",
    "т. е. после каждого этапа размер детали умножается на значение ключа damage:\n",
    "defect_stats = [\n",
    "\t{'step number': 1, 'damage': 0.98},\n",
    "\t{'step number': 2, 'damage': 0.99},\n",
    "\t{'step number': 3, 'damage': 0.99},\n",
    "\t{'step number': 4, 'damage': 0.96},\n",
    "\t{'step number': 5, 'damage': 0.97},\n",
    "\t{'step number': 6, 'damage': 0.97},\n",
    "]\n",
    "Если исходный размер детали принять за 100%, то на каком шаге повреждения приведут к размеру менее 90%?"
   ]
  },
  {
   "cell_type": "code",
   "execution_count": 11,
   "metadata": {},
   "outputs": [
    {
     "data": {
      "text/plain": [
       "5"
      ]
     },
     "execution_count": 11,
     "metadata": {},
     "output_type": "execute_result"
    }
   ],
   "source": [
    "defect_stats = [\n",
    "\t{'step number': 1, 'damage': 0.98},\n",
    "\t{'step number': 2, 'damage': 0.99},\n",
    "\t{'step number': 3, 'damage': 0.99},\n",
    "\t{'step number': 4, 'damage': 0.96},\n",
    "\t{'step number': 5, 'damage': 0.97},\n",
    "\t{'step number': 6, 'damage': 0.97},\n",
    "]\n",
    "size=100\n",
    "for record in defect_stats:\n",
    "    size*=record['damage']\n",
    "#    print(record['step number'],record['damage'],size)\n",
    "    if size<90:\n",
    "        stepnumber=record['step number']\n",
    "        break\n",
    "stepnumber        "
   ]
  },
  {
   "cell_type": "code",
   "execution_count": 24,
   "metadata": {},
   "outputs": [
    {
     "name": "stdout",
     "output_type": "stream",
     "text": [
      "{'Name': 'Армянских драмов', 'Nominal': 100, 'Value': 13.121}\n",
      "0.13121\n",
      "{'Name': 'Австралийский доллар', 'Nominal': 1, 'Value': 45.5309}\n",
      "45.5309\n",
      "{'Name': 'Индийских рупий', 'Nominal': 100, 'Value': 92.9658}\n",
      "0.929658\n",
      "{'Name': 'Молдавских леев', 'Nominal': 10, 'Value': 36.9305}\n",
      "3.6930500000000004\n",
      "[0.13121, 45.5309, 0.929658, 3.6930500000000004]\n",
      "0.13121\n"
     ]
    }
   ],
   "source": [
    "#Задание 4\n",
    "#Имеется статистика курсов валют. Какая валюта имеет минимальный курс по отношению к рублю за 1 единицу? \n",
    "#Для определения курса валюты необходимо значение ключа 'Value' разделить на значение ключа 'Nominal'. \n",
    "#В качестве ответа укажите код валюты (например, AUD)\n",
    "\n",
    "currency = {\n",
    "\t'AMD': {\n",
    "\t\t'Name': 'Армянских драмов',\n",
    "\t\t'Nominal': 100,\n",
    "\t\t'Value': 13.121\n",
    "\t},\n",
    "\n",
    "\t'AUD': {\n",
    "\t\t'Name': 'Австралийский доллар',\n",
    "\t\t'Nominal': 1,\n",
    "\t\t'Value': 45.5309\n",
    "\t},\n",
    "\n",
    "\t'INR': {\n",
    "\t\t'Name': 'Индийских рупий',\n",
    "\t\t'Nominal': 100,\n",
    "\t\t'Value': 92.9658\n",
    "\t},\n",
    "\n",
    "\t'MDL': {\n",
    "\t\t'Name': 'Молдавских леев',\n",
    "\t\t'Nominal': 10,\n",
    "\t\t'Value': 36.9305\n",
    "\t},\n",
    "}\n",
    "rates=[]\n",
    "for curkey, curdata in currency.items():\n",
    "    print(curdata)\n",
    "    print(curdata['Value']/curdata['Nominal'])\n",
    "    rates.append(curdata['Value']/curdata['Nominal'])\n",
    "# Если написать for record in currency, то print(record) выведет только ключи: AMD AUD INR MDL\n",
    "print(rates)\n",
    "print(min(rates))\n"
   ]
  },
  {
   "cell_type": "code",
   "execution_count": 28,
   "metadata": {},
   "outputs": [
    {
     "name": "stdout",
     "output_type": "stream",
     "text": [
      "0.13121\n",
      "45.5309\n",
      "0.929658\n",
      "3.6930500000000004\n",
      "[0.13121, 45.5309, 0.929658, 3.6930500000000004]\n",
      "0.13121\n",
      "{'AMD': 0.13121, 'AUD': 45.5309, 'INR': 0.929658, 'MDL': 3.6930500000000004}\n"
     ]
    },
    {
     "ename": "TypeError",
     "evalue": "argument of type 'float' is not iterable",
     "output_type": "error",
     "traceback": [
      "\u001b[1;31m---------------------------------------------------------------------------\u001b[0m",
      "\u001b[1;31mTypeError\u001b[0m                                 Traceback (most recent call last)",
      "\u001b[1;32m<ipython-input-28-8daddfbbb0eb>\u001b[0m in \u001b[0;36m<module>\u001b[1;34m\u001b[0m\n\u001b[0;32m     39\u001b[0m \u001b[0mprint\u001b[0m\u001b[1;33m(\u001b[0m\u001b[0mcurrates\u001b[0m\u001b[1;33m)\u001b[0m\u001b[1;33m\u001b[0m\u001b[1;33m\u001b[0m\u001b[0m\n\u001b[0;32m     40\u001b[0m \u001b[1;32mfor\u001b[0m \u001b[0mckey\u001b[0m\u001b[1;33m,\u001b[0m \u001b[0mcrate\u001b[0m \u001b[1;32min\u001b[0m \u001b[0mcurrates\u001b[0m\u001b[1;33m.\u001b[0m\u001b[0mitems\u001b[0m\u001b[1;33m(\u001b[0m\u001b[1;33m)\u001b[0m\u001b[1;33m:\u001b[0m\u001b[1;33m\u001b[0m\u001b[1;33m\u001b[0m\u001b[0m\n\u001b[1;32m---> 41\u001b[1;33m     \u001b[1;32mif\u001b[0m \u001b[0mmr\u001b[0m \u001b[1;32min\u001b[0m \u001b[0mcrate\u001b[0m\u001b[1;33m:\u001b[0m\u001b[1;33m\u001b[0m\u001b[1;33m\u001b[0m\u001b[0m\n\u001b[0m\u001b[0;32m     42\u001b[0m         \u001b[0mprint\u001b[0m\u001b[1;33m(\u001b[0m\u001b[0mckey\u001b[0m\u001b[1;33m)\u001b[0m\u001b[1;33m\u001b[0m\u001b[1;33m\u001b[0m\u001b[0m\n",
      "\u001b[1;31mTypeError\u001b[0m: argument of type 'float' is not iterable"
     ]
    }
   ],
   "source": [
    "currency = {\n",
    "\t'AMD': {\n",
    "\t\t'Name': 'Армянских драмов',\n",
    "\t\t'Nominal': 100,\n",
    "\t\t'Value': 13.121\n",
    "\t},\n",
    "\n",
    "\t'AUD': {\n",
    "\t\t'Name': 'Австралийский доллар',\n",
    "\t\t'Nominal': 1,\n",
    "\t\t'Value': 45.5309\n",
    "\t},\n",
    "\n",
    "\t'INR': {\n",
    "\t\t'Name': 'Индийских рупий',\n",
    "\t\t'Nominal': 100,\n",
    "\t\t'Value': 92.9658\n",
    "\t},\n",
    "\n",
    "\t'MDL': {\n",
    "\t\t'Name': 'Молдавских леев',\n",
    "\t\t'Nominal': 10,\n",
    "\t\t'Value': 36.9305\n",
    "\t},\n",
    "}\n",
    "rates=[]\n",
    "currates={}\n",
    "for curkey, curdata in currency.items():\n",
    "#    print(curdata)\n",
    "#    print(curdata['Value']/curdata['Nominal'])\n",
    "    rate=curdata['Value']/curdata['Nominal']\n",
    "    print(rate)\n",
    "    rates.append(curdata['Value']/curdata['Nominal'])\n",
    "    currates.setdefault(curkey, rate)\n",
    "# Если написать for record in currency, то print(record) выведет только ключи: AMD AUD INR MDL\n",
    "print(rates)\n",
    "mr=min(rates)\n",
    "print(mr)\n",
    "print(currates)\n",
    "for ckey, crate in currates.items():\n",
    "    if mr in crate:\n",
    "        print(ckey)"
   ]
  },
  {
   "cell_type": "code",
   "execution_count": 29,
   "metadata": {},
   "outputs": [
    {
     "name": "stdout",
     "output_type": "stream",
     "text": [
      "a\n",
      "b\n",
      "c\n",
      "d\n",
      "e\n"
     ]
    }
   ],
   "source": [
    "word='abcde'\n",
    "for letter in word:\n",
    "    print(letter)"
   ]
  }
 ],
 "metadata": {
  "kernelspec": {
   "display_name": "Python 3",
   "language": "python",
   "name": "python3"
  },
  "language_info": {
   "codemirror_mode": {
    "name": "ipython",
    "version": 3
   },
   "file_extension": ".py",
   "mimetype": "text/x-python",
   "name": "python",
   "nbconvert_exporter": "python",
   "pygments_lexer": "ipython3",
   "version": "3.7.6"
  }
 },
 "nbformat": 4,
 "nbformat_minor": 4
}
